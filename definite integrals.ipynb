{
 "cells": [
  {
   "cell_type": "code",
   "execution_count": 1,
   "id": "2114e55c-018a-4e53-a030-dcc6ec438c7c",
   "metadata": {
    "tags": []
   },
   "outputs": [],
   "source": [
    "import numpy as np\n",
    "import sympy as sp\n",
    "import matplotlib.pyplot as plt\n",
    "import math"
   ]
  },
  {
   "cell_type": "code",
   "execution_count": 2,
   "id": "23137bbd-cabe-41dd-b83d-15bed267b567",
   "metadata": {
    "tags": []
   },
   "outputs": [],
   "source": [
    "x , y , z = sp.symbols('x,y,z', real = True)\n",
    "C = sp.Symbol('C')"
   ]
  },
  {
   "cell_type": "code",
   "execution_count": 3,
   "id": "6783a03e-61d3-417c-aa30-5caaa97fe209",
   "metadata": {
    "tags": []
   },
   "outputs": [
    {
     "data": {
      "text/latex": [
       "$\\displaystyle \\frac{e^{x}}{\\sqrt{e^{2 x} + 9}}$"
      ],
      "text/plain": [
       "exp(x)/sqrt(exp(2*x) + 9)"
      ]
     },
     "execution_count": 3,
     "metadata": {},
     "output_type": "execute_result"
    }
   ],
   "source": [
    "f = sp.exp(x)/(sp.sqrt(sp.exp(2*x) + 9))\n",
    "f"
   ]
  },
  {
   "cell_type": "code",
   "execution_count": 4,
   "id": "70df98e7-e812-4616-80e9-b065d22e0445",
   "metadata": {
    "tags": []
   },
   "outputs": [
    {
     "data": {
      "text/latex": [
       "$\\displaystyle - \\operatorname{asinh}{\\left(\\frac{1}{3} \\right)} + \\operatorname{asinh}{\\left(\\frac{4}{3} \\right)}$"
      ],
      "text/plain": [
       "-asinh(1/3) + asinh(4/3)"
      ]
     },
     "execution_count": 4,
     "metadata": {},
     "output_type": "execute_result"
    }
   ],
   "source": [
    "f_integrate = sp.integrate(f,(x,0,sp.log(4)))\n",
    "f_integrate"
   ]
  },
  {
   "cell_type": "code",
   "execution_count": 5,
   "id": "ee49287e-25f5-4f01-a56e-8fb14aa65b25",
   "metadata": {
    "tags": []
   },
   "outputs": [
    {
     "data": {
      "text/latex": [
       "$\\displaystyle x^{10} e^{2 x}$"
      ],
      "text/plain": [
       "x**10*exp(2*x)"
      ]
     },
     "execution_count": 5,
     "metadata": {},
     "output_type": "execute_result"
    }
   ],
   "source": [
    "f = sp.exp(2*x)*x**10\n",
    "f"
   ]
  },
  {
   "cell_type": "code",
   "execution_count": 6,
   "id": "86fd071f-a8c7-43f9-874b-ab460bc383ca",
   "metadata": {},
   "outputs": [
    {
     "data": {
      "text/latex": [
       "$\\displaystyle - \\frac{14175}{8} + \\frac{1919 e^{2}}{8}$"
      ],
      "text/plain": [
       "-14175/8 + 1919*exp(2)/8"
      ]
     },
     "execution_count": 6,
     "metadata": {},
     "output_type": "execute_result"
    }
   ],
   "source": [
    "f_integrate = sp.integrate(f,(x,0,1))\n",
    "f_integrate"
   ]
  },
  {
   "cell_type": "code",
   "execution_count": 7,
   "id": "d91d3084-7b36-49a0-8281-ca8f90605dd3",
   "metadata": {
    "tags": []
   },
   "outputs": [
    {
     "data": {
      "text/latex": [
       "$\\displaystyle \\frac{16 \\operatorname{atan}{\\left(x \\right)}}{x^{2} + 1}$"
      ],
      "text/plain": [
       "16*atan(x)/(x**2 + 1)"
      ]
     },
     "execution_count": 7,
     "metadata": {},
     "output_type": "execute_result"
    }
   ],
   "source": [
    "f = 16*sp.atan(x)/(1+x**2)\n",
    "f"
   ]
  },
  {
   "cell_type": "code",
   "execution_count": 8,
   "id": "4a8cf849-2928-4a88-ac61-cda7960fc058",
   "metadata": {
    "tags": []
   },
   "outputs": [
    {
     "data": {
      "text/latex": [
       "$\\displaystyle 2 \\pi^{2}$"
      ],
      "text/plain": [
       "2*pi**2"
      ]
     },
     "execution_count": 8,
     "metadata": {},
     "output_type": "execute_result"
    }
   ],
   "source": [
    "f_integrate = sp.integrate(f,(x,0,sp.oo))\n",
    "f_integrate"
   ]
  },
  {
   "cell_type": "code",
   "execution_count": 9,
   "id": "be7ad92e-20c3-46ac-b839-ac4d10949994",
   "metadata": {
    "tags": []
   },
   "outputs": [
    {
     "data": {
      "text/latex": [
       "$\\displaystyle \\frac{6}{e^{3 x} + 6 e^{2 x} + 11 e^{x} + 6}$"
      ],
      "text/plain": [
       "6/(exp(3*x) + 6*exp(2*x) + 11*exp(x) + 6)"
      ]
     },
     "execution_count": 9,
     "metadata": {},
     "output_type": "execute_result"
    }
   ],
   "source": [
    "f = 6/(sp.exp(3*x)+ 6*sp.exp(2*x) + 11*sp.exp(x) +6)\n",
    "f"
   ]
  },
  {
   "cell_type": "code",
   "execution_count": 10,
   "id": "bf6f0fa7-2b38-4beb-9c21-911c36aa5537",
   "metadata": {
    "tags": []
   },
   "outputs": [
    {
     "data": {
      "text/latex": [
       "$\\displaystyle - 3 \\log{\\left(3 \\right)} + \\log{\\left(4 \\right)} + 3 \\log{\\left(2 \\right)}$"
      ],
      "text/plain": [
       "-3*log(3) + log(4) + 3*log(2)"
      ]
     },
     "execution_count": 10,
     "metadata": {},
     "output_type": "execute_result"
    }
   ],
   "source": [
    "f_integrate = sp.integrate(f,(x,0,sp.oo))\n",
    "f_integrate"
   ]
  },
  {
   "cell_type": "code",
   "execution_count": 13,
   "id": "228b2864-e095-4d57-9a40-b27b6072b6f2",
   "metadata": {},
   "outputs": [
    {
     "data": {
      "text/latex": [
       "$\\displaystyle \\frac{\\cos^{2023}{\\left(x \\right)}}{\\sin^{2023}{\\left(x \\right)} + \\cos^{2023}{\\left(x \\right)}}$"
      ],
      "text/plain": [
       "cos(x)**2023/(sin(x)**2023 + cos(x)**2023)"
      ]
     },
     "execution_count": 13,
     "metadata": {},
     "output_type": "execute_result"
    }
   ],
   "source": [
    "f = (sp.cos(x)**2023)/(sp.sin(x)**2023 + sp.cos(x)**2023)\n",
    "f "
   ]
  },
  {
   "cell_type": "code",
   "execution_count": null,
   "id": "f933c909-9e0c-4c20-acca-ce7c8dbe276a",
   "metadata": {
    "tags": []
   },
   "outputs": [],
   "source": []
  },
  {
   "cell_type": "code",
   "execution_count": null,
   "id": "02888492-7fda-4840-81cf-b239eb55bb3c",
   "metadata": {
    "tags": []
   },
   "outputs": [],
   "source": []
  },
  {
   "cell_type": "code",
   "execution_count": null,
   "id": "97166b6f-0c8e-48ff-9bd9-93417fefb663",
   "metadata": {},
   "outputs": [],
   "source": []
  }
 ],
 "metadata": {
  "kernelspec": {
   "display_name": "Python 3 (ipykernel)",
   "language": "python",
   "name": "python3"
  },
  "language_info": {
   "codemirror_mode": {
    "name": "ipython",
    "version": 3
   },
   "file_extension": ".py",
   "mimetype": "text/x-python",
   "name": "python",
   "nbconvert_exporter": "python",
   "pygments_lexer": "ipython3",
   "version": "3.11.4"
  }
 },
 "nbformat": 4,
 "nbformat_minor": 5
}
