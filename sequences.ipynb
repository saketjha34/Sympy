{
 "cells": [
  {
   "cell_type": "code",
   "execution_count": 11,
   "id": "82154f83-d948-4b70-90b9-59d55daa66c2",
   "metadata": {
    "tags": []
   },
   "outputs": [],
   "source": [
    "import numpy as np\n",
    "import sympy as sp\n",
    "import matplotlib.pyplot as plt\n",
    "import math"
   ]
  },
  {
   "cell_type": "code",
   "execution_count": 12,
   "id": "dac7d7b5-1174-436d-9d37-07fc426d2921",
   "metadata": {
    "tags": []
   },
   "outputs": [],
   "source": [
    "x,n,r = sp.symbols('x,n,r')"
   ]
  },
  {
   "cell_type": "code",
   "execution_count": 33,
   "id": "5ec42f4b-d09b-4157-a3b1-94d09029a64e",
   "metadata": {
    "tags": []
   },
   "outputs": [
    {
     "data": {
      "text/latex": [
       "$\\displaystyle 6 \\cdot 4^{- n}$"
      ],
      "text/plain": [
       "6/4**n"
      ]
     },
     "execution_count": 33,
     "metadata": {},
     "output_type": "execute_result"
    }
   ],
   "source": [
    "series = 6/4**n\n",
    "series"
   ]
  },
  {
   "cell_type": "code",
   "execution_count": 34,
   "id": "31fbb864-03e0-4f93-9224-14c8b1d2bdaa",
   "metadata": {
    "tags": []
   },
   "outputs": [
    {
     "data": {
      "text/latex": [
       "$\\displaystyle 8$"
      ],
      "text/plain": [
       "8"
      ]
     },
     "execution_count": 34,
     "metadata": {},
     "output_type": "execute_result"
    }
   ],
   "source": [
    "series_sum = sp.Sum(series, (n,0,sp.oo)).doit()\n",
    "series_sum"
   ]
  },
  {
   "cell_type": "code",
   "execution_count": 37,
   "id": "e0836b53-8de0-4863-972e-4384f2e6366e",
   "metadata": {
    "tags": []
   },
   "outputs": [
    {
     "data": {
      "text/latex": [
       "$\\displaystyle \\frac{1}{\\left(n + 1\\right) \\left(n + 2\\right)}$"
      ],
      "text/plain": [
       "1/((n + 1)*(n + 2))"
      ]
     },
     "execution_count": 37,
     "metadata": {},
     "output_type": "execute_result"
    }
   ],
   "source": [
    "series = 1/((n+1)*(n+2))\n",
    "series"
   ]
  },
  {
   "cell_type": "code",
   "execution_count": 38,
   "id": "8df9283f-f857-4b25-85e9-fadb78c8b384",
   "metadata": {
    "tags": []
   },
   "outputs": [
    {
     "data": {
      "text/latex": [
       "$\\displaystyle 1$"
      ],
      "text/plain": [
       "1"
      ]
     },
     "execution_count": 38,
     "metadata": {},
     "output_type": "execute_result"
    }
   ],
   "source": [
    "series_sum = sp.Sum(series, (n,0,sp.oo)).doit()\n",
    "series_sum"
   ]
  },
  {
   "cell_type": "code",
   "execution_count": 39,
   "id": "e079ec2b-da00-4cb0-a433-387cc964f167",
   "metadata": {
    "tags": []
   },
   "outputs": [
    {
     "data": {
      "text/latex": [
       "$\\displaystyle 2^{n + 1} \\cdot 5^{- n}$"
      ],
      "text/plain": [
       "2**(n + 1)/5**n"
      ]
     },
     "execution_count": 39,
     "metadata": {},
     "output_type": "execute_result"
    }
   ],
   "source": [
    "series = 2**(n+1)/5**n\n",
    "series"
   ]
  },
  {
   "cell_type": "code",
   "execution_count": 40,
   "id": "0b8a4d6e-a91b-4976-ad62-8fff4d3ab283",
   "metadata": {
    "tags": []
   },
   "outputs": [
    {
     "data": {
      "text/latex": [
       "$\\displaystyle \\frac{10}{3}$"
      ],
      "text/plain": [
       "10/3"
      ]
     },
     "execution_count": 40,
     "metadata": {},
     "output_type": "execute_result"
    }
   ],
   "source": [
    "series_sum = sp.Sum(series, (n,0,sp.oo)).doit()\n",
    "series_sum"
   ]
  },
  {
   "cell_type": "code",
   "execution_count": 48,
   "id": "7eaca846-1ff1-4399-b283-d393050e42f4",
   "metadata": {
    "tags": []
   },
   "outputs": [
    {
     "data": {
      "text/latex": [
       "$\\displaystyle \\frac{\\operatorname{atan}{\\left(n \\right)}}{n^{1.1}}$"
      ],
      "text/plain": [
       "atan(n)/n**1.1"
      ]
     },
     "execution_count": 48,
     "metadata": {},
     "output_type": "execute_result"
    }
   ],
   "source": [
    "series = sp.atan(n)/n**(1.1)\n",
    "series"
   ]
  },
  {
   "cell_type": "code",
   "execution_count": 50,
   "id": "f118b0f1-6720-46f9-871e-2f5df7a7c5b6",
   "metadata": {
    "tags": []
   },
   "outputs": [
    {
     "data": {
      "text/latex": [
       "$\\displaystyle \\sum_{n=1}^{\\infty} \\frac{\\operatorname{atan}{\\left(n \\right)}}{n^{1.1}}$"
      ],
      "text/plain": [
       "Sum(atan(n)/n**1.1, (n, 1, oo))"
      ]
     },
     "execution_count": 50,
     "metadata": {},
     "output_type": "execute_result"
    }
   ],
   "source": [
    "series_sum = sp.Sum(series, (n,1,sp.oo)).doit()\n",
    "series_sum"
   ]
  },
  {
   "cell_type": "code",
   "execution_count": 51,
   "id": "ab142134-949f-4a29-9dc5-039cf0deabc8",
   "metadata": {
    "tags": []
   },
   "outputs": [
    {
     "data": {
      "text/latex": [
       "$\\displaystyle - \\frac{2}{4 n^{2} - 16 n + 15}$"
      ],
      "text/plain": [
       "-2/(4*n**2 - 16*n + 15)"
      ]
     },
     "execution_count": 51,
     "metadata": {},
     "output_type": "execute_result"
    }
   ],
   "source": [
    "series = -2/(4*n**2-16*n+15)\n",
    "series"
   ]
  },
  {
   "cell_type": "code",
   "execution_count": 52,
   "id": "02da7e19-9211-490f-bf1c-9009ccfbd88d",
   "metadata": {
    "tags": []
   },
   "outputs": [
    {
     "data": {
      "text/latex": [
       "$\\displaystyle \\frac{50}{141}$"
      ],
      "text/plain": [
       "50/141"
      ]
     },
     "execution_count": 52,
     "metadata": {},
     "output_type": "execute_result"
    }
   ],
   "source": [
    "series_sum = sp.Sum(series, (n,1,25)).doit()\n",
    "series_sum"
   ]
  },
  {
   "cell_type": "code",
   "execution_count": 53,
   "id": "25732523-09dd-41c4-9871-dbb5b23bb8d3",
   "metadata": {
    "tags": []
   },
   "outputs": [
    {
     "data": {
      "text/latex": [
       "$\\displaystyle \\frac{n}{n^{4} + n^{2} + 1}$"
      ],
      "text/plain": [
       "n/(n**4 + n**2 + 1)"
      ]
     },
     "execution_count": 53,
     "metadata": {},
     "output_type": "execute_result"
    }
   ],
   "source": [
    "series = n/(1+n**2 + n**4)\n",
    "series"
   ]
  },
  {
   "cell_type": "code",
   "execution_count": 54,
   "id": "61fde751-788c-4bfd-a9db-e123a6195e07",
   "metadata": {
    "tags": []
   },
   "outputs": [
    {
     "data": {
      "text/latex": [
       "$\\displaystyle \\frac{55}{111}$"
      ],
      "text/plain": [
       "55/111"
      ]
     },
     "execution_count": 54,
     "metadata": {},
     "output_type": "execute_result"
    }
   ],
   "source": [
    "series_sum = sp.Sum(series, (n,1,10)).doit()\n",
    "series_sum"
   ]
  },
  {
   "cell_type": "code",
   "execution_count": 55,
   "id": "47770559-8770-4a52-8d67-21be11dfebca",
   "metadata": {
    "tags": []
   },
   "outputs": [
    {
     "data": {
      "text/latex": [
       "$\\displaystyle \\frac{1}{n \\left(n + 1\\right) \\left(n + 2\\right)}$"
      ],
      "text/plain": [
       "1/(n*(n + 1)*(n + 2))"
      ]
     },
     "execution_count": 55,
     "metadata": {},
     "output_type": "execute_result"
    }
   ],
   "source": [
    "series = 1/((n)*(n+1)*(n+2))\n",
    "series"
   ]
  },
  {
   "cell_type": "code",
   "execution_count": 56,
   "id": "4e258645-b97f-485e-894a-3ec932528296",
   "metadata": {
    "tags": []
   },
   "outputs": [
    {
     "data": {
      "text/latex": [
       "$\\displaystyle \\frac{2575}{10302}$"
      ],
      "text/plain": [
       "2575/10302"
      ]
     },
     "execution_count": 56,
     "metadata": {},
     "output_type": "execute_result"
    }
   ],
   "source": [
    "series_sum = sp.Sum(series, (n,1,100)).doit()\n",
    "series_sum"
   ]
  },
  {
   "cell_type": "code",
   "execution_count": 57,
   "id": "ffed6e7c-bb14-4c12-b029-5352fa8d7cf0",
   "metadata": {
    "tags": []
   },
   "outputs": [
    {
     "data": {
      "text/latex": [
       "$\\displaystyle \\frac{3}{\\left(4 n - 1\\right) \\left(4 n + 3\\right)}$"
      ],
      "text/plain": [
       "3/((4*n - 1)*(4*n + 3))"
      ]
     },
     "execution_count": 57,
     "metadata": {},
     "output_type": "execute_result"
    }
   ],
   "source": [
    "series = 3/((4*n-1)*(4*n +3))\n",
    "series"
   ]
  },
  {
   "cell_type": "code",
   "execution_count": 58,
   "id": "6f630081-fa4c-4903-a05e-b773dd4a9aee",
   "metadata": {
    "tags": []
   },
   "outputs": [
    {
     "data": {
      "text/latex": [
       "$\\displaystyle \\frac{7}{29}$"
      ],
      "text/plain": [
       "7/29"
      ]
     },
     "execution_count": 58,
     "metadata": {},
     "output_type": "execute_result"
    }
   ],
   "source": [
    "series_sum = sp.Sum(series, (n,1,21)).doit()\n",
    "series_sum"
   ]
  },
  {
   "cell_type": "code",
   "execution_count": null,
   "id": "24b38a8f-1da0-4a66-8a14-97638a7928a3",
   "metadata": {},
   "outputs": [],
   "source": []
  }
 ],
 "metadata": {
  "kernelspec": {
   "display_name": "Python 3 (ipykernel)",
   "language": "python",
   "name": "python3"
  },
  "language_info": {
   "codemirror_mode": {
    "name": "ipython",
    "version": 3
   },
   "file_extension": ".py",
   "mimetype": "text/x-python",
   "name": "python",
   "nbconvert_exporter": "python",
   "pygments_lexer": "ipython3",
   "version": "3.11.4"
  }
 },
 "nbformat": 4,
 "nbformat_minor": 5
}
