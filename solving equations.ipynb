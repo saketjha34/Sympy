{
 "cells": [
  {
   "cell_type": "code",
   "execution_count": 16,
   "id": "d8eb4f19-f588-4f28-bbe8-67776b14cc14",
   "metadata": {},
   "outputs": [],
   "source": [
    "import sympy as sp\n",
    "import math\n",
    "import matplotlib.pyplot as plt\n",
    "import numpy as np"
   ]
  },
  {
   "cell_type": "code",
   "execution_count": 62,
   "id": "6e373aaf-846f-4d8a-9199-740180c6f4fb",
   "metadata": {},
   "outputs": [],
   "source": [
    "x , y ,z = sp.symbols(\"x y z\")"
   ]
  },
  {
   "cell_type": "code",
   "execution_count": 22,
   "id": "112ab20d-92bc-42db-813e-f840d75be973",
   "metadata": {},
   "outputs": [],
   "source": [
    "f = sp.Function('f')(x)\n",
    "g = sp.Function('f')(x)"
   ]
  },
  {
   "cell_type": "code",
   "execution_count": 24,
   "id": "342231bc-7e6e-4503-adf2-9fbaf546af7b",
   "metadata": {},
   "outputs": [
    {
     "data": {
      "text/latex": [
       "$\\displaystyle x^{2} + \\sin^{\\pi}{\\left(x \\right)}$"
      ],
      "text/plain": [
       "x**2 + sin(x)**pi"
      ]
     },
     "execution_count": 24,
     "metadata": {},
     "output_type": "execute_result"
    }
   ],
   "source": [
    "f = x**2 + sp.sin(x)**sp.pi\n",
    "f"
   ]
  },
  {
   "cell_type": "code",
   "execution_count": 40,
   "id": "457be6e8-c55c-4df3-8930-432fdd8b280d",
   "metadata": {},
   "outputs": [
    {
     "data": {
      "text/latex": [
       "$\\displaystyle \\left\\{2, 3\\right\\}$"
      ],
      "text/plain": [
       "{2, 3}"
      ]
     },
     "execution_count": 40,
     "metadata": {},
     "output_type": "execute_result"
    }
   ],
   "source": [
    "g = sp.Eq(x**2 - 5*x + 6 , 0)\n",
    "sp.solveset(g)"
   ]
  },
  {
   "cell_type": "code",
   "execution_count": 44,
   "id": "e7df995a-5b7d-40ab-9e7a-df93ed72dff6",
   "metadata": {},
   "outputs": [
    {
     "data": {
      "text/latex": [
       "$\\displaystyle \\left\\{x\\; \\middle|\\; x \\in \\mathbb{C} \\wedge - x^{2} + \\sin{\\left(x \\right)} = 0 \\right\\}$"
      ],
      "text/plain": [
       "ConditionSet(x, Eq(-x**2 + sin(x), 0), Complexes)"
      ]
     },
     "execution_count": 44,
     "metadata": {},
     "output_type": "execute_result"
    }
   ],
   "source": [
    "h = sp.Eq(sp.sin(x),x**2)\n",
    "sp.solveset(h)."
   ]
  },
  {
   "cell_type": "code",
   "execution_count": 46,
   "id": "4abca3ad-465a-468c-88e7-d4a073b1943b",
   "metadata": {
    "tags": []
   },
   "outputs": [
    {
     "data": {
      "text/latex": [
       "$\\displaystyle - \\cos{\\left(x \\right)} + \\cos{\\left(2 x \\right)} = 0$"
      ],
      "text/plain": [
       "Eq(-cos(x) + cos(2*x), 0)"
      ]
     },
     "execution_count": 46,
     "metadata": {},
     "output_type": "execute_result"
    }
   ],
   "source": [
    "f1 = sp.Eq(sp.cos(2*x)-sp.cos(x), 0)\n",
    "f1"
   ]
  },
  {
   "cell_type": "code",
   "execution_count": 47,
   "id": "78ee500a-4514-4e96-9acf-b34ac2c85f45",
   "metadata": {
    "tags": []
   },
   "outputs": [
    {
     "data": {
      "text/latex": [
       "$\\displaystyle \\left\\{2 n \\pi\\; \\middle|\\; n \\in \\mathbb{Z}\\right\\} \\cup \\left\\{2 n \\pi + \\frac{4 \\pi}{3}\\; \\middle|\\; n \\in \\mathbb{Z}\\right\\} \\cup \\left\\{2 n \\pi + \\frac{2 \\pi}{3}\\; \\middle|\\; n \\in \\mathbb{Z}\\right\\}$"
      ],
      "text/plain": [
       "Union(ImageSet(Lambda(_n, 2*_n*pi), Integers), ImageSet(Lambda(_n, 2*_n*pi + 4*pi/3), Integers), ImageSet(Lambda(_n, 2*_n*pi + 2*pi/3), Integers))"
      ]
     },
     "execution_count": 47,
     "metadata": {},
     "output_type": "execute_result"
    }
   ],
   "source": [
    "sp.solveset(f1)"
   ]
  },
  {
   "cell_type": "code",
   "execution_count": 53,
   "id": "87d8763e-a2e3-4dfd-9655-a2e436745d7e",
   "metadata": {
    "tags": []
   },
   "outputs": [
    {
     "data": {
      "text/latex": [
       "$\\displaystyle \\tan{\\left(2 x \\right)} \\tan{\\left(3 x \\right)} + \\sqrt{3} \\tan{\\left(2 x \\right)} + \\sqrt{3} \\tan{\\left(3 x \\right)} = 1$"
      ],
      "text/plain": [
       "Eq(tan(2*x)*tan(3*x) + sqrt(3)*tan(2*x) + sqrt(3)*tan(3*x), 1)"
      ]
     },
     "execution_count": 53,
     "metadata": {},
     "output_type": "execute_result"
    }
   ],
   "source": [
    "f1 = sp.Eq((sp.sqrt(3)*sp.tan(2*x) + sp.sqrt(3)*sp.tan(3*x) + sp.tan(3*x)*sp.tan(2*x)) , 1)\n",
    "f1"
   ]
  },
  {
   "cell_type": "code",
   "execution_count": 61,
   "id": "402e0cba-ec54-483f-8d2b-babd306a8c2d",
   "metadata": {
    "tags": []
   },
   "outputs": [
    {
     "data": {
      "text/latex": [
       "$\\displaystyle \\left\\{2 n \\pi + \\operatorname{atan}{\\left(\\frac{- \\sqrt{5} - 1 + \\sqrt{6} \\sqrt{5 - \\sqrt{5}}}{\\sqrt{3} + \\sqrt{2} \\sqrt{5 - \\sqrt{5}} + \\sqrt{15}} \\right)}\\; \\middle|\\; n \\in \\mathbb{Z}\\right\\} \\cup \\left\\{2 n \\pi + \\operatorname{atan}{\\left(\\frac{- \\sqrt{6} \\sqrt{5 - \\sqrt{5}} + 1 + \\sqrt{5}}{- \\sqrt{15} - \\sqrt{2} \\sqrt{5 - \\sqrt{5}} - \\sqrt{3}} \\right)} + \\pi\\; \\middle|\\; n \\in \\mathbb{Z}\\right\\} \\cup \\left\\{2 n \\pi + \\operatorname{atan}{\\left(\\frac{- 2 \\sqrt{5} + 2 + \\sqrt{6} \\sqrt{5 - \\sqrt{5}} + \\sqrt{30} \\sqrt{5 - \\sqrt{5}}}{- 2 \\sqrt{3} + \\sqrt{2} \\sqrt{5 - \\sqrt{5}} + \\sqrt{10} \\sqrt{5 - \\sqrt{5}} + 2 \\sqrt{15}} \\right)}\\; \\middle|\\; n \\in \\mathbb{Z}\\right\\} \\cup \\left\\{2 n \\pi + \\operatorname{atan}{\\left(\\frac{- \\sqrt{30} \\sqrt{5 - \\sqrt{5}} - \\sqrt{6} \\sqrt{5 - \\sqrt{5}} - 2 + 2 \\sqrt{5}}{- 2 \\sqrt{15} - \\sqrt{10} \\sqrt{5 - \\sqrt{5}} - \\sqrt{2} \\sqrt{5 - \\sqrt{5}} + 2 \\sqrt{3}} \\right)} + \\pi\\; \\middle|\\; n \\in \\mathbb{Z}\\right\\} \\cup \\left\\{2 n \\pi + \\operatorname{atan}{\\left(\\frac{- \\sqrt{6} \\sqrt{5 - \\sqrt{5}} - 4 + \\sqrt{6} \\sqrt{\\sqrt{5} + 5} + 2 \\sqrt{5 - \\sqrt{5}} \\sqrt{\\sqrt{5} + 5} + \\sqrt{30} \\sqrt{5 - \\sqrt{5}} + \\sqrt{30} \\sqrt{\\sqrt{5} + 5}}{- 2 \\sqrt{3} \\sqrt{5 - \\sqrt{5}} \\sqrt{\\sqrt{5} + 5} - \\sqrt{2} \\sqrt{5 - \\sqrt{5}} + \\sqrt{2} \\sqrt{\\sqrt{5} + 5} + \\sqrt{10} \\sqrt{5 - \\sqrt{5}} + 4 \\sqrt{3} + \\sqrt{10} \\sqrt{\\sqrt{5} + 5}} \\right)}\\; \\middle|\\; n \\in \\mathbb{Z}\\right\\} \\cup \\left\\{2 n \\pi + \\operatorname{atan}{\\left(\\frac{- \\sqrt{30} \\sqrt{5 - \\sqrt{5}} + 4 + \\sqrt{6} \\sqrt{5 - \\sqrt{5}} + \\sqrt{6} \\sqrt{\\sqrt{5} + 5} + 2 \\sqrt{5 - \\sqrt{5}} \\sqrt{\\sqrt{5} + 5} + \\sqrt{30} \\sqrt{\\sqrt{5} + 5}}{- 2 \\sqrt{3} \\sqrt{5 - \\sqrt{5}} \\sqrt{\\sqrt{5} + 5} - 4 \\sqrt{3} - \\sqrt{10} \\sqrt{5 - \\sqrt{5}} + \\sqrt{2} \\sqrt{5 - \\sqrt{5}} + \\sqrt{2} \\sqrt{\\sqrt{5} + 5} + \\sqrt{10} \\sqrt{\\sqrt{5} + 5}} \\right)} + \\pi\\; \\middle|\\; n \\in \\mathbb{Z}\\right\\} \\cup \\left\\{2 n \\pi + \\operatorname{atan}{\\left(\\frac{- \\sqrt{30} \\sqrt{\\sqrt{5} + 5} - \\sqrt{30} \\sqrt{5 - \\sqrt{5}} - 2 \\sqrt{5 - \\sqrt{5}} \\sqrt{\\sqrt{5} + 5} - \\sqrt{6} \\sqrt{\\sqrt{5} + 5} + 4 + \\sqrt{6} \\sqrt{5 - \\sqrt{5}}}{- \\sqrt{10} \\sqrt{\\sqrt{5} + 5} - 4 \\sqrt{3} - \\sqrt{10} \\sqrt{5 - \\sqrt{5}} - \\sqrt{2} \\sqrt{\\sqrt{5} + 5} + \\sqrt{2} \\sqrt{5 - \\sqrt{5}} + 2 \\sqrt{3} \\sqrt{5 - \\sqrt{5}} \\sqrt{\\sqrt{5} + 5}} \\right)} + \\pi\\; \\middle|\\; n \\in \\mathbb{Z}\\right\\} \\cup \\left\\{2 n \\pi + \\operatorname{atan}{\\left(\\frac{- \\sqrt{30} \\sqrt{\\sqrt{5} + 5} - 2 \\sqrt{5 - \\sqrt{5}} \\sqrt{\\sqrt{5} + 5} - \\sqrt{6} \\sqrt{\\sqrt{5} + 5} - \\sqrt{6} \\sqrt{5 - \\sqrt{5}} - 4 + \\sqrt{30} \\sqrt{5 - \\sqrt{5}}}{- \\sqrt{10} \\sqrt{\\sqrt{5} + 5} - \\sqrt{2} \\sqrt{\\sqrt{5} + 5} - \\sqrt{2} \\sqrt{5 - \\sqrt{5}} + \\sqrt{10} \\sqrt{5 - \\sqrt{5}} + 4 \\sqrt{3} + 2 \\sqrt{3} \\sqrt{5 - \\sqrt{5}} \\sqrt{\\sqrt{5} + 5}} \\right)} + 2 \\pi\\; \\middle|\\; n \\in \\mathbb{Z}\\right\\}$"
      ],
      "text/plain": [
       "Union(ImageSet(Lambda(_n, 2*_n*pi + atan((-sqrt(6)*sqrt(5 - sqrt(5)) + 1 + sqrt(5))/(-sqrt(15) - sqrt(2)*sqrt(5 - sqrt(5)) - sqrt(3))) + pi), Integers), ImageSet(Lambda(_n, 2*_n*pi + atan((-sqrt(5) - 1 + sqrt(6)*sqrt(5 - sqrt(5)))/(sqrt(3) + sqrt(2)*sqrt(5 - sqrt(5)) + sqrt(15)))), Integers), ImageSet(Lambda(_n, 2*_n*pi + atan((-sqrt(30)*sqrt(5 - sqrt(5)) - sqrt(6)*sqrt(5 - sqrt(5)) - 2 + 2*sqrt(5))/(-2*sqrt(15) - sqrt(10)*sqrt(5 - sqrt(5)) - sqrt(2)*sqrt(5 - sqrt(5)) + 2*sqrt(3))) + pi), Integers), ImageSet(Lambda(_n, 2*_n*pi + atan((-2*sqrt(5) + 2 + sqrt(6)*sqrt(5 - sqrt(5)) + sqrt(30)*sqrt(5 - sqrt(5)))/(-2*sqrt(3) + sqrt(2)*sqrt(5 - sqrt(5)) + sqrt(10)*sqrt(5 - sqrt(5)) + 2*sqrt(15)))), Integers), ImageSet(Lambda(_n, 2*_n*pi + atan((-sqrt(30)*sqrt(sqrt(5) + 5) - sqrt(30)*sqrt(5 - sqrt(5)) - 2*sqrt(5 - sqrt(5))*sqrt(sqrt(5) + 5) - sqrt(6)*sqrt(sqrt(5) + 5) + 4 + sqrt(6)*sqrt(5 - sqrt(5)))/(-sqrt(10)*sqrt(sqrt(5) + 5) - 4*sqrt(3) - sqrt(10)*sqrt(5 - sqrt(5)) - sqrt(2)*sqrt(sqrt(5) + 5) + sqrt(2)*sqrt(5 - sqrt(5)) + 2*sqrt(3)*sqrt(5 - sqrt(5))*sqrt(sqrt(5) + 5))) + pi), Integers), ImageSet(Lambda(_n, 2*_n*pi + atan((-sqrt(30)*sqrt(sqrt(5) + 5) - 2*sqrt(5 - sqrt(5))*sqrt(sqrt(5) + 5) - sqrt(6)*sqrt(sqrt(5) + 5) - sqrt(6)*sqrt(5 - sqrt(5)) - 4 + sqrt(30)*sqrt(5 - sqrt(5)))/(-sqrt(10)*sqrt(sqrt(5) + 5) - sqrt(2)*sqrt(sqrt(5) + 5) - sqrt(2)*sqrt(5 - sqrt(5)) + sqrt(10)*sqrt(5 - sqrt(5)) + 4*sqrt(3) + 2*sqrt(3)*sqrt(5 - sqrt(5))*sqrt(sqrt(5) + 5))) + 2*pi), Integers), ImageSet(Lambda(_n, 2*_n*pi + atan((-sqrt(30)*sqrt(5 - sqrt(5)) + 4 + sqrt(6)*sqrt(5 - sqrt(5)) + sqrt(6)*sqrt(sqrt(5) + 5) + 2*sqrt(5 - sqrt(5))*sqrt(sqrt(5) + 5) + sqrt(30)*sqrt(sqrt(5) + 5))/(-2*sqrt(3)*sqrt(5 - sqrt(5))*sqrt(sqrt(5) + 5) - 4*sqrt(3) - sqrt(10)*sqrt(5 - sqrt(5)) + sqrt(2)*sqrt(5 - sqrt(5)) + sqrt(2)*sqrt(sqrt(5) + 5) + sqrt(10)*sqrt(sqrt(5) + 5))) + pi), Integers), ImageSet(Lambda(_n, 2*_n*pi + atan((-sqrt(6)*sqrt(5 - sqrt(5)) - 4 + sqrt(6)*sqrt(sqrt(5) + 5) + 2*sqrt(5 - sqrt(5))*sqrt(sqrt(5) + 5) + sqrt(30)*sqrt(5 - sqrt(5)) + sqrt(30)*sqrt(sqrt(5) + 5))/(-2*sqrt(3)*sqrt(5 - sqrt(5))*sqrt(sqrt(5) + 5) - sqrt(2)*sqrt(5 - sqrt(5)) + sqrt(2)*sqrt(sqrt(5) + 5) + sqrt(10)*sqrt(5 - sqrt(5)) + 4*sqrt(3) + sqrt(10)*sqrt(sqrt(5) + 5)))), Integers))"
      ]
     },
     "execution_count": 61,
     "metadata": {},
     "output_type": "execute_result"
    }
   ],
   "source": [
    "sp.solveset(f1)"
   ]
  },
  {
   "cell_type": "code",
   "execution_count": 56,
   "id": "28ace8d5-88dc-415f-9ad9-7b2be0196591",
   "metadata": {
    "tags": []
   },
   "outputs": [
    {
     "data": {
      "text/latex": [
       "$\\displaystyle 9^{1 - \\tan^{2}{\\left(x \\right)}} + 9^{\\tan^{2}{\\left(x \\right)}} = 10$"
      ],
      "text/plain": [
       "Eq(9**(1 - tan(x)**2) + 9**(tan(x)**2), 10)"
      ]
     },
     "execution_count": 56,
     "metadata": {},
     "output_type": "execute_result"
    }
   ],
   "source": [
    "f = sp.Eq((9**(1-sp.tan(x)**2)) + (9**(sp.tan(x)**2)),10)\n",
    "f"
   ]
  },
  {
   "cell_type": "code",
   "execution_count": 57,
   "id": "afa76a6e-adf8-4da0-b245-0cace33f2a3b",
   "metadata": {
    "tags": []
   },
   "outputs": [
    {
     "data": {
      "text/latex": [
       "$\\displaystyle \\left(\\left\\{x\\; \\middle|\\; x \\in \\mathbb{C} \\wedge 9^{\\tan^{2}{\\left(x \\right)}} - 9 = 0 \\right\\} \\setminus \\left\\{x\\; \\middle|\\; x \\in \\mathbb{C} \\wedge 9^{\\tan^{2}{\\left(x \\right)}} = 0 \\right\\}\\right) \\cup \\left(\\left\\{x\\; \\middle|\\; x \\in \\mathbb{C} \\wedge 9^{\\tan^{2}{\\left(x \\right)}} - 1 = 0 \\right\\} \\setminus \\left\\{x\\; \\middle|\\; x \\in \\mathbb{C} \\wedge 9^{\\tan^{2}{\\left(x \\right)}} = 0 \\right\\}\\right)$"
      ],
      "text/plain": [
       "Union(Complement(ConditionSet(x, Eq(9**(tan(x)**2) - 9, 0), Complexes), ConditionSet(x, Eq(9**(tan(x)**2), 0), Complexes)), Complement(ConditionSet(x, Eq(9**(tan(x)**2) - 1, 0), Complexes), ConditionSet(x, Eq(9**(tan(x)**2), 0), Complexes)))"
      ]
     },
     "execution_count": 57,
     "metadata": {},
     "output_type": "execute_result"
    }
   ],
   "source": [
    "sp.solveset(f)"
   ]
  },
  {
   "cell_type": "code",
   "execution_count": 59,
   "id": "859e79c2-04a4-445a-85bc-57036a860e1e",
   "metadata": {
    "tags": []
   },
   "outputs": [
    {
     "data": {
      "text/latex": [
       "$\\displaystyle - 2 \\sin^{6}{\\left(x \\right)} + 3 \\cos^{4}{\\left(x \\right)} - 5 \\cos^{2}{\\left(x \\right)} + 2 = 0$"
      ],
      "text/plain": [
       "Eq(-2*sin(x)**6 + 3*cos(x)**4 - 5*cos(x)**2 + 2, 0)"
      ]
     },
     "execution_count": 59,
     "metadata": {},
     "output_type": "execute_result"
    }
   ],
   "source": [
    "f4 = sp.Eq((3*sp.cos(x)**4  - 5*sp.cos(x)**2 - 2*sp.sin(x)**6 +2),0)\n",
    "f4"
   ]
  },
  {
   "cell_type": "code",
   "execution_count": 60,
   "id": "040eabc5-edac-4207-abc0-9f826bb893f5",
   "metadata": {
    "tags": []
   },
   "outputs": [
    {
     "data": {
      "text/latex": [
       "$\\displaystyle \\left\\{n \\pi\\; \\middle|\\; n \\in \\mathbb{Z}\\right\\} \\cup \\left\\{n \\pi + \\frac{\\pi}{2}\\; \\middle|\\; n \\in \\mathbb{Z}\\right\\} \\cup \\left\\{n \\pi + \\frac{\\pi}{4}\\; \\middle|\\; n \\in \\mathbb{Z}\\right\\} \\cup \\left\\{n \\pi + \\frac{3 \\pi}{4}\\; \\middle|\\; n \\in \\mathbb{Z}\\right\\}$"
      ],
      "text/plain": [
       "Union(ImageSet(Lambda(_n, _n*pi + pi/2), Integers), ImageSet(Lambda(_n, _n*pi), Integers), ImageSet(Lambda(_n, _n*pi + pi/4), Integers), ImageSet(Lambda(_n, _n*pi + 3*pi/4), Integers))"
      ]
     },
     "execution_count": 60,
     "metadata": {},
     "output_type": "execute_result"
    }
   ],
   "source": [
    "sp.solveset(f4)"
   ]
  },
  {
   "cell_type": "code",
   "execution_count": null,
   "id": "26f4e2fe-e9aa-4040-b8d8-dd695a405f53",
   "metadata": {},
   "outputs": [],
   "source": []
  },
  {
   "cell_type": "markdown",
   "id": "3f97abee-4361-44a1-bd30-59b95a7b1358",
   "metadata": {},
   "source": [
    "Solving Linear Equation (X,Y,Z)"
   ]
  },
  {
   "cell_type": "code",
   "execution_count": 63,
   "id": "9e0b5fb8-4386-4727-8f94-b6f62c1fea33",
   "metadata": {
    "tags": []
   },
   "outputs": [
    {
     "data": {
      "text/latex": [
       "$\\displaystyle 2 x + 3 y - z = 0$"
      ],
      "text/plain": [
       "Eq(2*x + 3*y - z, 0)"
      ]
     },
     "execution_count": 63,
     "metadata": {},
     "output_type": "execute_result"
    }
   ],
   "source": [
    "lineq1 = sp.Eq(2*x + 3*y - z , 0)\n",
    "lineq1"
   ]
  },
  {
   "cell_type": "code",
   "execution_count": 64,
   "id": "0748a9f1-bfc8-465f-b7ed-8e68bf22176c",
   "metadata": {
    "tags": []
   },
   "outputs": [
    {
     "data": {
      "text/latex": [
       "$\\displaystyle x - 4 y - 9 z = 0$"
      ],
      "text/plain": [
       "Eq(x - 4*y - 9*z, 0)"
      ]
     },
     "execution_count": 64,
     "metadata": {},
     "output_type": "execute_result"
    }
   ],
   "source": [
    "lineq2 = sp.Eq(x - 4*y - 9*z , 0)\n",
    "lineq2"
   ]
  },
  {
   "cell_type": "code",
   "execution_count": 65,
   "id": "67ec0e57-7be4-463f-b3a0-c59543f8878d",
   "metadata": {
    "tags": []
   },
   "outputs": [
    {
     "data": {
      "text/latex": [
       "$\\displaystyle 2 x + y - z = 2$"
      ],
      "text/plain": [
       "Eq(2*x + y - z, 2)"
      ]
     },
     "execution_count": 65,
     "metadata": {},
     "output_type": "execute_result"
    }
   ],
   "source": [
    "lineq3 = sp.Eq(2*x + y - z , 2)\n",
    "lineq3"
   ]
  },
  {
   "cell_type": "code",
   "execution_count": 66,
   "id": "483a845d-f1bb-47e9-8281-d19e07506681",
   "metadata": {
    "tags": []
   },
   "outputs": [
    {
     "data": {
      "text/latex": [
       "$\\displaystyle \\left\\{\\left( \\frac{31}{17}, \\  -1, \\  \\frac{11}{17}\\right)\\right\\}$"
      ],
      "text/plain": [
       "{(31/17, -1, 11/17)}"
      ]
     },
     "execution_count": 66,
     "metadata": {},
     "output_type": "execute_result"
    }
   ],
   "source": [
    "sp.linsolve([lineq1,lineq2,lineq3],x,y,z)"
   ]
  },
  {
   "cell_type": "code",
   "execution_count": null,
   "id": "b27e1d08-614d-4f47-85f6-c1c203f5edee",
   "metadata": {},
   "outputs": [],
   "source": []
  }
 ],
 "metadata": {
  "kernelspec": {
   "display_name": "Python 3 (ipykernel)",
   "language": "python",
   "name": "python3"
  },
  "language_info": {
   "codemirror_mode": {
    "name": "ipython",
    "version": 3
   },
   "file_extension": ".py",
   "mimetype": "text/x-python",
   "name": "python",
   "nbconvert_exporter": "python",
   "pygments_lexer": "ipython3",
   "version": "3.11.4"
  }
 },
 "nbformat": 4,
 "nbformat_minor": 5
}
