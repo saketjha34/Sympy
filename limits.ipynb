{
 "cells": [
  {
   "cell_type": "code",
   "execution_count": 2,
   "id": "e34d8826-fdb3-4467-aeb6-e0707f995815",
   "metadata": {
    "tags": []
   },
   "outputs": [],
   "source": [
    "import numpy as np\n",
    "import sympy as sp\n",
    "import matplotlib.pyplot as plt\n",
    "import math\n",
    "x, y , z , a , b= sp.symbols('x,y,z,a,b')"
   ]
  },
  {
   "cell_type": "code",
   "execution_count": 3,
   "id": "12d8bfc1-305d-4f95-80ed-bd77d599e08f",
   "metadata": {
    "tags": []
   },
   "outputs": [
    {
     "data": {
      "text/latex": [
       "$\\displaystyle \\frac{\\left(1 - \\cos^{2}{\\left(3 x \\right)}\\right) \\sin^{3}{\\left(4 x \\right)}}{\\log{\\left(2 x + 1 \\right)}^{5} \\cos^{3}{\\left(4 x \\right)}}$"
      ],
      "text/plain": [
       "(1 - cos(3*x)**2)*sin(4*x)**3/(log(2*x + 1)**5*cos(4*x)**3)"
      ]
     },
     "execution_count": 3,
     "metadata": {},
     "output_type": "execute_result"
    }
   ],
   "source": [
    "f = ((1-sp.cos(3*x)**2)/(sp.cos(4*x)**3))*((sp.sin(4*x)**3)/(sp.log(2*x +1)**5))\n",
    "f"
   ]
  },
  {
   "cell_type": "code",
   "execution_count": 4,
   "id": "f438af14-d042-47a5-8f1f-77dbdf9cacbc",
   "metadata": {
    "tags": []
   },
   "outputs": [
    {
     "data": {
      "text/latex": [
       "$\\displaystyle 18$"
      ],
      "text/plain": [
       "18"
      ]
     },
     "execution_count": 4,
     "metadata": {},
     "output_type": "execute_result"
    }
   ],
   "source": [
    "f_limit = sp.limit(f,x,0)\n",
    "f_limit"
   ]
  },
  {
   "cell_type": "code",
   "execution_count": 33,
   "id": "e49c1225-fc22-481d-9456-015edc2eb3c7",
   "metadata": {
    "tags": []
   },
   "outputs": [
    {
     "data": {
      "text/latex": [
       "$\\displaystyle \\frac{x^{3} \\left(\\left(- \\sqrt{3 x - 1} + \\sqrt{3 x + 1}\\right)^{6} + \\left(\\sqrt{3 x - 1} + \\sqrt{3 x + 1}\\right)^{6}\\right)}{\\left(x - \\sqrt{x^{2} - 1}\\right)^{6} + \\left(x + \\sqrt{x^{2} - 1}\\right)^{6}}$"
      ],
      "text/plain": [
       "x**3*((-sqrt(3*x - 1) + sqrt(3*x + 1))**6 + (sqrt(3*x - 1) + sqrt(3*x + 1))**6)/((x - sqrt(x**2 - 1))**6 + (x + sqrt(x**2 - 1))**6)"
      ]
     },
     "execution_count": 33,
     "metadata": {},
     "output_type": "execute_result"
    }
   ],
   "source": [
    "f =( ((sp.sqrt(3*x + 1) + sp.sqrt(3*x - 1))**6 +(sp.sqrt(3*x + 1) - sp.sqrt(3*x - 1))**6)/(((x + sp.sqrt(x**2-1))**6)+(((x - sp.sqrt(x**2-1))**6))))*x**3\n",
    "f"
   ]
  },
  {
   "cell_type": "code",
   "execution_count": 34,
   "id": "813bded2-cd77-401c-adc6-b40eb345bcdd",
   "metadata": {
    "tags": []
   },
   "outputs": [
    {
     "data": {
      "text/latex": [
       "$\\displaystyle 27$"
      ],
      "text/plain": [
       "27"
      ]
     },
     "execution_count": 34,
     "metadata": {},
     "output_type": "execute_result"
    }
   ],
   "source": [
    "f_limit = sp.limit(f,x,sp.oo)\n",
    "f_limit"
   ]
  },
  {
   "cell_type": "code",
   "execution_count": 35,
   "id": "4a2deade-f216-4218-93ff-9e900e5ae73a",
   "metadata": {
    "tags": []
   },
   "outputs": [
    {
     "data": {
      "text/latex": [
       "$\\displaystyle \\left\\lfloor{x}\\right\\rfloor - \\left\\lfloor{2 x}\\right\\rfloor - 7$"
      ],
      "text/plain": [
       "floor(x) - floor(2*x) - 7"
      ]
     },
     "execution_count": 35,
     "metadata": {},
     "output_type": "execute_result"
    }
   ],
   "source": [
    "f = sp.floor(x-5) -sp.floor(2*x +2)\n",
    "f"
   ]
  },
  {
   "cell_type": "code",
   "execution_count": 36,
   "id": "57b0223a-693f-484b-b7c8-39041bffe70b",
   "metadata": {
    "tags": []
   },
   "outputs": [
    {
     "data": {
      "text/latex": [
       "$\\displaystyle - a - 7$"
      ],
      "text/plain": [
       "-a - 7"
      ]
     },
     "execution_count": 36,
     "metadata": {},
     "output_type": "execute_result"
    }
   ],
   "source": [
    "f_limit = sp.limit(f,x,a)\n",
    "f_limit"
   ]
  },
  {
   "cell_type": "code",
   "execution_count": 37,
   "id": "d58b8ec0-fb65-4466-9eb8-7ee276e0f528",
   "metadata": {
    "tags": []
   },
   "outputs": [
    {
     "data": {
      "text/latex": [
       "$\\displaystyle \\frac{\\log{\\left(x^{2} - x + 1 \\right)} + \\log{\\left(x^{2} + x + 1 \\right)}}{- \\cos{\\left(x \\right)} + \\sec{\\left(x \\right)}}$"
      ],
      "text/plain": [
       "(log(x**2 - x + 1) + log(x**2 + x + 1))/(-cos(x) + sec(x))"
      ]
     },
     "execution_count": 37,
     "metadata": {},
     "output_type": "execute_result"
    }
   ],
   "source": [
    "f = ((sp.log(1-x+x**2)) + (sp.log(1+x+x**2)))/(sp.sec(x)-sp.cos(x))\n",
    "f"
   ]
  },
  {
   "cell_type": "code",
   "execution_count": 38,
   "id": "800d832e-fb22-444d-a66b-f94a7ab1ff7a",
   "metadata": {
    "tags": []
   },
   "outputs": [
    {
     "data": {
      "text/latex": [
       "$\\displaystyle 1$"
      ],
      "text/plain": [
       "1"
      ]
     },
     "execution_count": 38,
     "metadata": {},
     "output_type": "execute_result"
    }
   ],
   "source": [
    "f_limit = sp.limit(f,x,0)\n",
    "f_limit"
   ]
  },
  {
   "cell_type": "code",
   "execution_count": 40,
   "id": "d52bfdcd-5a5a-4a3f-afc7-f8380d9ca6a0",
   "metadata": {
    "tags": []
   },
   "outputs": [
    {
     "data": {
      "text/latex": [
       "$\\displaystyle \\frac{a x - e^{3 x} + 1}{a x \\left(e^{3 x} - 1\\right)}$"
      ],
      "text/plain": [
       "(a*x - exp(3*x) + 1)/(a*x*(exp(3*x) - 1))"
      ]
     },
     "execution_count": 40,
     "metadata": {},
     "output_type": "execute_result"
    }
   ],
   "source": [
    "f = (a*x -(sp.exp(3*x)-1))/((sp.exp(3*x)-1)*(a*x))\n",
    "f"
   ]
  },
  {
   "cell_type": "code",
   "execution_count": 41,
   "id": "119974a1-172f-4809-82ae-c710d3867cba",
   "metadata": {
    "tags": []
   },
   "outputs": [
    {
     "data": {
      "text/latex": [
       "$\\displaystyle \\infty \\operatorname{sign}{\\left(\\frac{a - 3}{a} \\right)}$"
      ],
      "text/plain": [
       "oo*sign((a - 3)/a)"
      ]
     },
     "execution_count": 41,
     "metadata": {},
     "output_type": "execute_result"
    }
   ],
   "source": [
    "f_limit = sp.limit(f,x,0)\n",
    "f_limit"
   ]
  },
  {
   "cell_type": "code",
   "execution_count": null,
   "id": "f6e3a585-5110-4502-9638-89b236cefdb8",
   "metadata": {},
   "outputs": [],
   "source": []
  }
 ],
 "metadata": {
  "kernelspec": {
   "display_name": "Python 3 (ipykernel)",
   "language": "python",
   "name": "python3"
  },
  "language_info": {
   "codemirror_mode": {
    "name": "ipython",
    "version": 3
   },
   "file_extension": ".py",
   "mimetype": "text/x-python",
   "name": "python",
   "nbconvert_exporter": "python",
   "pygments_lexer": "ipython3",
   "version": "3.11.4"
  }
 },
 "nbformat": 4,
 "nbformat_minor": 5
}
