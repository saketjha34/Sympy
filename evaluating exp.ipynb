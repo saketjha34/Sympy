{
 "cells": [
  {
   "cell_type": "code",
   "execution_count": 1,
   "id": "9de1c22d-937f-4825-bf4b-4e0b512db369",
   "metadata": {
    "tags": []
   },
   "outputs": [],
   "source": [
    "import numpy as np\n",
    "import sympy as sp\n",
    "import matplotlib.pyplot as plt\n",
    "import math"
   ]
  },
  {
   "cell_type": "code",
   "execution_count": 2,
   "id": "06587d34-7d4b-452d-8db3-33acad12a187",
   "metadata": {
    "tags": []
   },
   "outputs": [],
   "source": [
    "x , y , z = sp.symbols(\"x,y,z\" , real = True , positive =True)\n",
    "f = sp.Function('f')(x)"
   ]
  },
  {
   "cell_type": "code",
   "execution_count": 3,
   "id": "bcf03d90-c9ec-483f-92c7-022d14ee3f92",
   "metadata": {
    "tags": []
   },
   "outputs": [
    {
     "data": {
      "text/latex": [
       "$\\displaystyle x^{2} + 5 x + 6$"
      ],
      "text/plain": [
       "x**2 + 5*x + 6"
      ]
     },
     "execution_count": 3,
     "metadata": {},
     "output_type": "execute_result"
    }
   ],
   "source": [
    "f = x**2 + 5*x + 6\n",
    "f"
   ]
  },
  {
   "cell_type": "code",
   "execution_count": 4,
   "id": "ad06947c-729e-45ff-be48-42c6da3706e2",
   "metadata": {
    "tags": []
   },
   "outputs": [
    {
     "data": {
      "text/latex": [
       "$\\displaystyle 56$"
      ],
      "text/plain": [
       "56"
      ]
     },
     "execution_count": 4,
     "metadata": {},
     "output_type": "execute_result"
    }
   ],
   "source": [
    "f.subs(x ,5)"
   ]
  },
  {
   "cell_type": "code",
   "execution_count": 25,
   "id": "474f9963-f418-477a-9ab4-0c442772b16a",
   "metadata": {
    "tags": []
   },
   "outputs": [
    {
     "data": {
      "text/latex": [
       "$\\displaystyle 6 + \\pi^{2} + 5 \\pi$"
      ],
      "text/plain": [
       "6 + pi**2 + 5*pi"
      ]
     },
     "execution_count": 25,
     "metadata": {},
     "output_type": "execute_result"
    }
   ],
   "source": [
    "f.subs(x , sp.pi)"
   ]
  },
  {
   "cell_type": "code",
   "execution_count": 26,
   "id": "0ae75d11-bbed-4255-b74a-ef1da240d93b",
   "metadata": {
    "tags": []
   },
   "outputs": [
    {
     "data": {
      "text/latex": [
       "$\\displaystyle 4 \\sin{\\left(x \\right)} + \\cos{\\left(2 x \\right)}$"
      ],
      "text/plain": [
       "4*sin(x) + cos(2*x)"
      ]
     },
     "execution_count": 26,
     "metadata": {},
     "output_type": "execute_result"
    }
   ],
   "source": [
    "f = 4*sp.sin(x) + sp.cos(2*x)\n",
    "f"
   ]
  },
  {
   "cell_type": "code",
   "execution_count": 27,
   "id": "66f4f9cb-78a2-414e-b632-3b611cab4ada",
   "metadata": {
    "tags": []
   },
   "outputs": [
    {
     "data": {
      "text/latex": [
       "$\\displaystyle 3$"
      ],
      "text/plain": [
       "3"
      ]
     },
     "execution_count": 27,
     "metadata": {},
     "output_type": "execute_result"
    }
   ],
   "source": [
    "f.subs(x , sp.pi/2)"
   ]
  },
  {
   "cell_type": "code",
   "execution_count": null,
   "id": "da78487d-a5fa-4151-b0f1-406b561f85c6",
   "metadata": {},
   "outputs": [],
   "source": []
  }
 ],
 "metadata": {
  "kernelspec": {
   "display_name": "Python 3 (ipykernel)",
   "language": "python",
   "name": "python3"
  },
  "language_info": {
   "codemirror_mode": {
    "name": "ipython",
    "version": 3
   },
   "file_extension": ".py",
   "mimetype": "text/x-python",
   "name": "python",
   "nbconvert_exporter": "python",
   "pygments_lexer": "ipython3",
   "version": "3.11.4"
  }
 },
 "nbformat": 4,
 "nbformat_minor": 5
}
