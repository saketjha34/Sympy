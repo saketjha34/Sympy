{
 "cells": [
  {
   "cell_type": "code",
   "execution_count": 2,
   "id": "7eb05a6f-44dc-44fd-af26-80f7c5f7298b",
   "metadata": {
    "tags": []
   },
   "outputs": [],
   "source": [
    "import sympy as sp\n",
    "import numpy as np\n",
    "import math\n",
    "import matplotlib.pyplot as plt"
   ]
  },
  {
   "cell_type": "code",
   "execution_count": 3,
   "id": "6e0552e0-547e-45cd-8e4d-a4a4ad81358d",
   "metadata": {
    "tags": []
   },
   "outputs": [],
   "source": [
    "x,y,z = sp.symbols('x,y,z')"
   ]
  },
  {
   "cell_type": "code",
   "execution_count": 4,
   "id": "2e9c8f4b-c55a-4226-8fca-6feb66689488",
   "metadata": {
    "tags": []
   },
   "outputs": [
    {
     "data": {
      "text/latex": [
       "$\\displaystyle x^{2} + 5 x + 6$"
      ],
      "text/plain": [
       "x**2 + 5*x + 6"
      ]
     },
     "execution_count": 4,
     "metadata": {},
     "output_type": "execute_result"
    }
   ],
   "source": [
    "exp = x**2 + 5*x +6\n",
    "exp"
   ]
  },
  {
   "cell_type": "code",
   "execution_count": 5,
   "id": "8573f41a-1d8c-47f0-8144-d11725464c9d",
   "metadata": {
    "tags": []
   },
   "outputs": [
    {
     "data": {
      "text/latex": [
       "$\\displaystyle \\left(x + 2\\right) \\left(x + 3\\right)$"
      ],
      "text/plain": [
       "(x + 2)*(x + 3)"
      ]
     },
     "execution_count": 5,
     "metadata": {},
     "output_type": "execute_result"
    }
   ],
   "source": [
    "exp.factor()"
   ]
  },
  {
   "cell_type": "code",
   "execution_count": 6,
   "id": "b86cbaa7-a6ba-4633-815b-3fd49643ca85",
   "metadata": {
    "tags": []
   },
   "outputs": [
    {
     "data": {
      "text/latex": [
       "$\\displaystyle x^{2} - 2 x y + y^{3}$"
      ],
      "text/plain": [
       "x**2 - 2*x*y + y**3"
      ]
     },
     "execution_count": 6,
     "metadata": {},
     "output_type": "execute_result"
    }
   ],
   "source": [
    "exp1 = x**2 + y**3 - 2*x*y\n",
    "exp1"
   ]
  },
  {
   "cell_type": "code",
   "execution_count": 7,
   "id": "3bf4566c-d42c-4f13-8fc2-717be4e72393",
   "metadata": {
    "tags": []
   },
   "outputs": [
    {
     "data": {
      "text/latex": [
       "$\\displaystyle \\left(x^{2} + 5 x + 6\\right) \\left(x^{2} - 2 x y + y^{3}\\right)$"
      ],
      "text/plain": [
       "(x**2 + 5*x + 6)*(x**2 - 2*x*y + y**3)"
      ]
     },
     "execution_count": 7,
     "metadata": {},
     "output_type": "execute_result"
    }
   ],
   "source": [
    "exp2 = exp*exp1\n",
    "exp2"
   ]
  },
  {
   "cell_type": "code",
   "execution_count": 16,
   "id": "9927e18f-06b1-48fa-9bb9-b74e2c7df59e",
   "metadata": {
    "tags": []
   },
   "outputs": [
    {
     "data": {
      "text/latex": [
       "$\\displaystyle x^{4} - 2 x^{3} y + 5 x^{3} + x^{2} y^{3} - 10 x^{2} y + 6 x^{2} + 5 x y^{3} - 12 x y + 6 y^{3}$"
      ],
      "text/plain": [
       "x**4 - 2*x**3*y + 5*x**3 + x**2*y**3 - 10*x**2*y + 6*x**2 + 5*x*y**3 - 12*x*y + 6*y**3"
      ]
     },
     "execution_count": 16,
     "metadata": {},
     "output_type": "execute_result"
    }
   ],
   "source": [
    "exp2.expand()"
   ]
  },
  {
   "cell_type": "code",
   "execution_count": 9,
   "id": "c8565206-e16a-417a-98ac-9dacbb702b77",
   "metadata": {
    "tags": []
   },
   "outputs": [
    {
     "data": {
      "text/latex": [
       "$\\displaystyle x^{4} - 6 x^{3} + 11 x^{2} - 6 x$"
      ],
      "text/plain": [
       "x**4 - 6*x**3 + 11*x**2 - 6*x"
      ]
     },
     "execution_count": 9,
     "metadata": {},
     "output_type": "execute_result"
    }
   ],
   "source": [
    "exp3  = (x-3)*(x)*(x-1)*(x-2)\n",
    "exp4 = exp3.expand()\n",
    "exp4"
   ]
  },
  {
   "cell_type": "code",
   "execution_count": 10,
   "id": "016eff5b-e4e4-49d2-8f1e-9f8e090c2983",
   "metadata": {
    "tags": []
   },
   "outputs": [
    {
     "data": {
      "text/latex": [
       "$\\displaystyle 4 x^{6} - 28 x^{5} - 80 x^{4} + 384 x^{3}$"
      ],
      "text/plain": [
       "4*x**6 - 28*x**5 - 80*x**4 + 384*x**3"
      ]
     },
     "execution_count": 10,
     "metadata": {},
     "output_type": "execute_result"
    }
   ],
   "source": [
    "exp5 = (x-3)*(x+4)*(x**2)*(4*x)*(x-8)\n",
    "exp6 = exp5.expand()\n",
    "exp6"
   ]
  },
  {
   "cell_type": "code",
   "execution_count": 12,
   "id": "3a47c58c-dae0-4e74-b25a-3e408be9a8dc",
   "metadata": {},
   "outputs": [
    {
     "data": {
      "text/latex": [
       "$\\displaystyle \\frac{x^{4} - 6 x^{3} + 11 x^{2} - 6 x}{4 x^{6} - 28 x^{5} - 80 x^{4} + 384 x^{3}}$"
      ],
      "text/plain": [
       "(x**4 - 6*x**3 + 11*x**2 - 6*x)/(4*x**6 - 28*x**5 - 80*x**4 + 384*x**3)"
      ]
     },
     "execution_count": 12,
     "metadata": {},
     "output_type": "execute_result"
    }
   ],
   "source": [
    "exp7 = exp4/exp6\n",
    "exp7"
   ]
  },
  {
   "cell_type": "code",
   "execution_count": 14,
   "id": "aec063f7-36c8-4f0e-b149-a181d867ba4e",
   "metadata": {
    "tags": []
   },
   "outputs": [
    {
     "data": {
      "text/latex": [
       "$\\displaystyle \\frac{x^{2} - 3 x + 2}{4 x^{4} - 16 x^{3} - 128 x^{2}}$"
      ],
      "text/plain": [
       "(x**2 - 3*x + 2)/(4*x**4 - 16*x**3 - 128*x**2)"
      ]
     },
     "execution_count": 14,
     "metadata": {},
     "output_type": "execute_result"
    }
   ],
   "source": [
    "exp8 = exp7.cancel()\n",
    "exp8"
   ]
  },
  {
   "cell_type": "code",
   "execution_count": 17,
   "id": "41c0748c-cd67-4e36-8acc-00ae5e4dcb78",
   "metadata": {
    "tags": []
   },
   "outputs": [
    {
     "data": {
      "text/latex": [
       "$\\displaystyle x^{4} - 6 x^{3} + 11 x^{2} - 6 x$"
      ],
      "text/plain": [
       "x**4 - 6*x**3 + 11*x**2 - 6*x"
      ]
     },
     "execution_count": 17,
     "metadata": {},
     "output_type": "execute_result"
    }
   ],
   "source": [
    "exp3  = (x-3)*(x)*(x-1)*(x-2)\n",
    "exp4 = exp3.expand()\n",
    "exp4"
   ]
  },
  {
   "cell_type": "code",
   "execution_count": 20,
   "id": "8bb30a59-994b-4f4c-a0a6-7d5562333961",
   "metadata": {
    "tags": []
   },
   "outputs": [
    {
     "data": {
      "text/latex": [
       "$\\displaystyle 4 x^{6} - 28 x^{5} - 80 x^{4} + 384 x^{3}$"
      ],
      "text/plain": [
       "4*x**6 - 28*x**5 - 80*x**4 + 384*x**3"
      ]
     },
     "execution_count": 20,
     "metadata": {},
     "output_type": "execute_result"
    }
   ],
   "source": [
    "exp5 = (x-3)*(x+4)*(x**2)*(4*x)*(x-8)\n",
    "exp6 = exp5.expand()\n",
    "exp6"
   ]
  },
  {
   "cell_type": "code",
   "execution_count": 22,
   "id": "e3cdc908-4f5b-408c-8fb8-fb3aad930d2e",
   "metadata": {
    "tags": []
   },
   "outputs": [
    {
     "data": {
      "text/latex": [
       "$\\displaystyle \\frac{x^{4} - 6 x^{3} + 11 x^{2} - 6 x}{4 x^{6} - 28 x^{5} - 80 x^{4} + 384 x^{3}}$"
      ],
      "text/plain": [
       "(x**4 - 6*x**3 + 11*x**2 - 6*x)/(4*x**6 - 28*x**5 - 80*x**4 + 384*x**3)"
      ]
     },
     "execution_count": 22,
     "metadata": {},
     "output_type": "execute_result"
    }
   ],
   "source": [
    "exp7 = exp4/exp6\n",
    "exp7"
   ]
  },
  {
   "cell_type": "code",
   "execution_count": 27,
   "id": "4b1e6213-b2b5-42bf-98a4-79968ea9c721",
   "metadata": {
    "tags": []
   },
   "outputs": [
    {
     "data": {
      "text/latex": [
       "$\\displaystyle - \\frac{5}{128 \\left(x + 4\\right)} + \\frac{7}{512 \\left(x - 8\\right)} + \\frac{13}{512 x} - \\frac{1}{64 x^{2}}$"
      ],
      "text/plain": [
       "-5/(128*(x + 4)) + 7/(512*(x - 8)) + 13/(512*x) - 1/(64*x**2)"
      ]
     },
     "execution_count": 27,
     "metadata": {},
     "output_type": "execute_result"
    }
   ],
   "source": [
    "exp7.apart()"
   ]
  },
  {
   "cell_type": "code",
   "execution_count": 35,
   "id": "65b78219-6b27-4063-a5ec-1a58119ca563",
   "metadata": {
    "tags": []
   },
   "outputs": [
    {
     "data": {
      "text/latex": [
       "$\\displaystyle \\left(\\sin{\\left(x \\right)} + \\cos{\\left(x \\right)}\\right)^{2}$"
      ],
      "text/plain": [
       "(sin(x) + cos(x))**2"
      ]
     },
     "execution_count": 35,
     "metadata": {},
     "output_type": "execute_result"
    }
   ],
   "source": [
    "exp = (sp.sin(x)+sp.cos(x))**2 \n",
    "exp"
   ]
  },
  {
   "cell_type": "code",
   "execution_count": 37,
   "id": "aa7c4ae9-1286-4c4a-8e7b-61598846eabd",
   "metadata": {
    "tags": []
   },
   "outputs": [
    {
     "data": {
      "text/latex": [
       "$\\displaystyle \\sin^{2}{\\left(x \\right)} + 2 \\sin{\\left(x \\right)} \\cos{\\left(x \\right)} + \\cos^{2}{\\left(x \\right)}$"
      ],
      "text/plain": [
       "sin(x)**2 + 2*sin(x)*cos(x) + cos(x)**2"
      ]
     },
     "execution_count": 37,
     "metadata": {},
     "output_type": "execute_result"
    }
   ],
   "source": [
    "exp.expand()"
   ]
  },
  {
   "cell_type": "code",
   "execution_count": null,
   "id": "6e974eb2-28ec-4a39-9caf-095c8a7ad35d",
   "metadata": {},
   "outputs": [],
   "source": []
  }
 ],
 "metadata": {
  "kernelspec": {
   "display_name": "Python 3 (ipykernel)",
   "language": "python",
   "name": "python3"
  },
  "language_info": {
   "codemirror_mode": {
    "name": "ipython",
    "version": 3
   },
   "file_extension": ".py",
   "mimetype": "text/x-python",
   "name": "python",
   "nbconvert_exporter": "python",
   "pygments_lexer": "ipython3",
   "version": "3.11.4"
  }
 },
 "nbformat": 4,
 "nbformat_minor": 5
}
