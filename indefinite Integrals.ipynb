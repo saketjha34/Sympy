{
 "cells": [
  {
   "cell_type": "code",
   "execution_count": 2,
   "id": "eb21715a-ea48-438d-a9a0-b970f957eb8d",
   "metadata": {
    "tags": []
   },
   "outputs": [],
   "source": [
    "import sympy as sp\n",
    "import math\n",
    "import matplotlib.pyplot as plt\n",
    "import numpy as np"
   ]
  },
  {
   "cell_type": "code",
   "execution_count": 3,
   "id": "ac0a3b80-a2d5-43e9-aadd-73fe527d20a4",
   "metadata": {
    "tags": []
   },
   "outputs": [],
   "source": [
    "x, y , z = sp.symbols('x,y,z' , positive = True, real = True)"
   ]
  },
  {
   "cell_type": "code",
   "execution_count": 4,
   "id": "257c6a36-55e7-475b-ad15-1a51893e8583",
   "metadata": {
    "tags": []
   },
   "outputs": [
    {
     "data": {
      "text/latex": [
       "$\\displaystyle \\cot{\\left(x \\right)} \\csc{\\left(x \\right)}$"
      ],
      "text/plain": [
       "cot(x)*csc(x)"
      ]
     },
     "execution_count": 4,
     "metadata": {},
     "output_type": "execute_result"
    }
   ],
   "source": [
    "f = sp.csc(x)*sp.cot(x)\n",
    "f"
   ]
  },
  {
   "cell_type": "code",
   "execution_count": 5,
   "id": "73a00834-18a1-4c85-855c-7e53568f6666",
   "metadata": {
    "tags": []
   },
   "outputs": [
    {
     "data": {
      "text/latex": [
       "$\\displaystyle - \\frac{1}{\\sin{\\left(x \\right)}}$"
      ],
      "text/plain": [
       "-1/sin(x)"
      ]
     },
     "execution_count": 5,
     "metadata": {},
     "output_type": "execute_result"
    }
   ],
   "source": [
    "sp.integrate(f,x)"
   ]
  },
  {
   "cell_type": "code",
   "execution_count": 6,
   "id": "f8db68e4-8c70-461e-b101-62599697aa68",
   "metadata": {
    "tags": []
   },
   "outputs": [
    {
     "data": {
      "text/latex": [
       "$\\displaystyle 4 \\tan{\\left(3 x \\right)} \\sec{\\left(3 x \\right)}$"
      ],
      "text/plain": [
       "4*tan(3*x)*sec(3*x)"
      ]
     },
     "execution_count": 6,
     "metadata": {},
     "output_type": "execute_result"
    }
   ],
   "source": [
    "f = 4*sp.sec(3*x)*sp.tan(3*x)\n",
    "f"
   ]
  },
  {
   "cell_type": "code",
   "execution_count": 7,
   "id": "6b5e95c7-85f5-4503-8018-8545ea5b6010",
   "metadata": {
    "tags": []
   },
   "outputs": [
    {
     "data": {
      "text/latex": [
       "$\\displaystyle \\frac{4}{3 \\cos{\\left(3 x \\right)}}$"
      ],
      "text/plain": [
       "4/(3*cos(3*x))"
      ]
     },
     "execution_count": 7,
     "metadata": {},
     "output_type": "execute_result"
    }
   ],
   "source": [
    "sp.integrate(f,x)"
   ]
  },
  {
   "cell_type": "code",
   "execution_count": 8,
   "id": "28961f14-1a9d-424b-ade1-37e16f2bc9f8",
   "metadata": {
    "tags": []
   },
   "outputs": [
    {
     "data": {
      "text/latex": [
       "$\\displaystyle \\frac{2}{\\sqrt{1 - x^{2}}} - \\frac{1}{\\sqrt[4]{x}}$"
      ],
      "text/plain": [
       "2/sqrt(1 - x**2) - 1/x**(1/4)"
      ]
     },
     "execution_count": 8,
     "metadata": {},
     "output_type": "execute_result"
    }
   ],
   "source": [
    "f = ((2/(sp.sqrt(1-x**2)))-(1/x**sp.Rational(1/4)))\n",
    "f"
   ]
  },
  {
   "cell_type": "code",
   "execution_count": 9,
   "id": "fc7f5e99-46e4-4133-9da4-d661534a846e",
   "metadata": {
    "tags": []
   },
   "outputs": [
    {
     "data": {
      "text/latex": [
       "$\\displaystyle - \\frac{4 x^{\\frac{3}{4}}}{3} + 2 \\operatorname{asin}{\\left(x \\right)}$"
      ],
      "text/plain": [
       "-4*x**(3/4)/3 + 2*asin(x)"
      ]
     },
     "execution_count": 9,
     "metadata": {},
     "output_type": "execute_result"
    }
   ],
   "source": [
    "sp.integrate(f,x)"
   ]
  },
  {
   "cell_type": "code",
   "execution_count": 10,
   "id": "74ad0e65-1f8c-47af-a771-d7f9fbeb85f1",
   "metadata": {
    "tags": []
   },
   "outputs": [
    {
     "data": {
      "text/latex": [
       "$\\displaystyle \\frac{x^{2} \\left(x \\sec^{2}{\\left(x \\right)} + \\tan{\\left(x \\right)}\\right)}{\\left(x \\tan{\\left(x \\right)} + 1\\right)^{2}}$"
      ],
      "text/plain": [
       "x**2*(x*sec(x)**2 + tan(x))/(x*tan(x) + 1)**2"
      ]
     },
     "execution_count": 10,
     "metadata": {},
     "output_type": "execute_result"
    }
   ],
   "source": [
    "f = ((x**2)*(x*sp.sec(x)**2 + sp.tan(x)))/(x*sp.tan(x) + 1)**2\n",
    "f"
   ]
  },
  {
   "cell_type": "code",
   "execution_count": null,
   "id": "afbcdc5e-f37a-42bb-9849-a8e859ebe9a9",
   "metadata": {
    "tags": []
   },
   "outputs": [],
   "source": []
  },
  {
   "cell_type": "code",
   "execution_count": 18,
   "id": "a866a98a-549b-409f-bde4-82d534cead58",
   "metadata": {
    "tags": []
   },
   "outputs": [
    {
     "data": {
      "text/latex": [
       "$\\displaystyle \\frac{x + 1}{x \\left(x e^{x} + 1\\right)^{2}}$"
      ],
      "text/plain": [
       "(x + 1)/(x*(x*exp(x) + 1)**2)"
      ]
     },
     "execution_count": 18,
     "metadata": {},
     "output_type": "execute_result"
    }
   ],
   "source": [
    "f = (x+1)/(x*((1+x*sp.exp(x))**2))\n",
    "f"
   ]
  },
  {
   "cell_type": "code",
   "execution_count": 19,
   "id": "645e7f05-0050-4807-9c31-1ceea5c58f6a",
   "metadata": {
    "tags": []
   },
   "outputs": [
    {
     "data": {
      "text/latex": [
       "$\\displaystyle x - \\log{\\left(e^{x} + \\frac{1}{x} \\right)} + \\frac{1}{x e^{x} + 1}$"
      ],
      "text/plain": [
       "x - log(exp(x) + 1/x) + 1/(x*exp(x) + 1)"
      ]
     },
     "execution_count": 19,
     "metadata": {},
     "output_type": "execute_result"
    }
   ],
   "source": [
    "f_inte = sp.integrate(f,x)\n",
    "f_inte"
   ]
  },
  {
   "cell_type": "code",
   "execution_count": 20,
   "id": "d328a157-5057-407b-b50f-9a8bb5637ce7",
   "metadata": {
    "tags": []
   },
   "outputs": [
    {
     "data": {
      "text/latex": [
       "$\\displaystyle - \\log{\\left(1 + e \\right)} + \\frac{1}{1 + e} + 1$"
      ],
      "text/plain": [
       "-log(1 + E) + 1/(1 + E) + 1"
      ]
     },
     "execution_count": 20,
     "metadata": {},
     "output_type": "execute_result"
    }
   ],
   "source": [
    "f_inte.subs(x,1)"
   ]
  },
  {
   "cell_type": "code",
   "execution_count": 21,
   "id": "016e536f-d751-4395-b7a7-05d4b179c61a",
   "metadata": {
    "tags": []
   },
   "outputs": [
    {
     "data": {
      "text/latex": [
       "$\\displaystyle \\left(\\left(\\frac{x}{2}\\right)^{x} + \\left(\\frac{2}{x}\\right)^{x}\\right) \\log{\\left(\\frac{e x}{2} \\right)}$"
      ],
      "text/plain": [
       "((x/2)**x + (2/x)**x)*log(E*x/2)"
      ]
     },
     "execution_count": 21,
     "metadata": {},
     "output_type": "execute_result"
    }
   ],
   "source": [
    "f = ((x/2)**x+(2/x)**x)*(sp.log((sp.E*x)/2))\n",
    "f"
   ]
  },
  {
   "cell_type": "code",
   "execution_count": 22,
   "id": "40f0b151-9e47-4c55-bcd2-9159ac39ba06",
   "metadata": {
    "tags": []
   },
   "outputs": [
    {
     "data": {
      "text/latex": [
       "$\\displaystyle \\left(\\frac{x}{2}\\right)^{x} - \\left(\\frac{x}{2}\\right)^{- x}$"
      ],
      "text/plain": [
       "(x/2)**x - 1/(x/2)**x"
      ]
     },
     "execution_count": 22,
     "metadata": {},
     "output_type": "execute_result"
    }
   ],
   "source": [
    "f_integrate = sp.integrate(f,x)\n",
    "f_integrate"
   ]
  },
  {
   "cell_type": "code",
   "execution_count": 26,
   "id": "f2b0fb4a-3fa1-4a85-919a-0a38ebad7e45",
   "metadata": {
    "tags": []
   },
   "outputs": [
    {
     "data": {
      "text/latex": [
       "$\\displaystyle \\left(\\left(\\frac{e}{x}\\right)^{2 x} + \\left(\\frac{x}{e}\\right)^{2 x}\\right) \\log{\\left(x \\right)}$"
      ],
      "text/plain": [
       "((E/x)**(2*x) + (x*exp(-1))**(2*x))*log(x)"
      ]
     },
     "execution_count": 26,
     "metadata": {},
     "output_type": "execute_result"
    }
   ],
   "source": [
    "f = ((x/sp.E)**(2*x)+(sp.E/x)**(2*x))*(sp.log(x))\n",
    "f"
   ]
  },
  {
   "cell_type": "code",
   "execution_count": 27,
   "id": "1fa4cc0e-bfde-4804-a26f-687f20340918",
   "metadata": {
    "tags": []
   },
   "outputs": [
    {
     "data": {
      "text/latex": [
       "$\\displaystyle \\frac{\\left(\\frac{x}{e}\\right)^{2 x}}{2} - \\frac{\\left(\\frac{x}{e}\\right)^{- 2 x}}{2}$"
      ],
      "text/plain": [
       "(x*exp(-1))**(2*x)/2 - 1/(2*(x*exp(-1))**(2*x))"
      ]
     },
     "execution_count": 27,
     "metadata": {},
     "output_type": "execute_result"
    }
   ],
   "source": [
    "f_integrate = sp.integrate(f,x)\n",
    "f_integrate"
   ]
  },
  {
   "cell_type": "code",
   "execution_count": 28,
   "id": "b42f7c7e-16ed-4aca-8f6a-f5743dd54e94",
   "metadata": {
    "tags": []
   },
   "outputs": [
    {
     "data": {
      "text/latex": [
       "$\\displaystyle \\frac{\\sqrt{x + 7}}{\\sqrt{x}}$"
      ],
      "text/plain": [
       "sqrt(x + 7)/sqrt(x)"
      ]
     },
     "execution_count": 28,
     "metadata": {},
     "output_type": "execute_result"
    }
   ],
   "source": [
    "f = sp.sqrt((x+7)/x)\n",
    "f"
   ]
  },
  {
   "cell_type": "code",
   "execution_count": 29,
   "id": "fddcd2b8-b51f-45d2-8b43-4ad8cdaf25c5",
   "metadata": {
    "tags": []
   },
   "outputs": [
    {
     "data": {
      "text/latex": [
       "$\\displaystyle 7 \\operatorname{acosh}{\\left(\\frac{\\sqrt{7} \\sqrt{x + 7}}{7} \\right)} + \\frac{\\left(x + 7\\right)^{\\frac{3}{2}}}{\\sqrt{x}} - \\frac{7 \\sqrt{x + 7}}{\\sqrt{x}}$"
      ],
      "text/plain": [
       "7*acosh(sqrt(7)*sqrt(x + 7)/7) + (x + 7)**(3/2)/sqrt(x) - 7*sqrt(x + 7)/sqrt(x)"
      ]
     },
     "execution_count": 29,
     "metadata": {},
     "output_type": "execute_result"
    }
   ],
   "source": [
    "f_integrate = sp.integrate(f,x)\n",
    "f_integrate"
   ]
  },
  {
   "cell_type": "code",
   "execution_count": 30,
   "id": "9eab322c-88a4-4206-b1ed-336cfa88ee64",
   "metadata": {
    "tags": []
   },
   "outputs": [
    {
     "data": {
      "text/latex": [
       "$\\displaystyle 7 \\operatorname{acosh}{\\left(\\frac{4 \\sqrt{7}}{7} \\right)} + 12$"
      ],
      "text/plain": [
       "7*acosh(4*sqrt(7)/7) + 12"
      ]
     },
     "execution_count": 30,
     "metadata": {},
     "output_type": "execute_result"
    }
   ],
   "source": [
    "f_integrate.subs(x,9)"
   ]
  },
  {
   "cell_type": "code",
   "execution_count": 31,
   "id": "a49d496c-3cb4-407d-8a33-eb869a2676bf",
   "metadata": {
    "tags": []
   },
   "outputs": [
    {
     "data": {
      "text/latex": [
       "$\\displaystyle 7 \\operatorname{acosh}{\\left(\\frac{2 \\sqrt{14}}{7} \\right)} + 2 \\sqrt{2}$"
      ],
      "text/plain": [
       "7*acosh(2*sqrt(14)/7) + 2*sqrt(2)"
      ]
     },
     "execution_count": 31,
     "metadata": {},
     "output_type": "execute_result"
    }
   ],
   "source": [
    "f_integrate.subs(x,1)"
   ]
  },
  {
   "cell_type": "code",
   "execution_count": 32,
   "id": "7d958b2a-0ba7-4f46-8b9b-5d6ca994375e",
   "metadata": {
    "tags": []
   },
   "outputs": [
    {
     "data": {
      "text/latex": [
       "$\\displaystyle \\frac{1}{\\sqrt{4 - 3 x^{2}} \\cdot \\left(4 x^{2} + 3\\right)}$"
      ],
      "text/plain": [
       "1/(sqrt(4 - 3*x**2)*(4*x**2 + 3))"
      ]
     },
     "execution_count": 32,
     "metadata": {},
     "output_type": "execute_result"
    }
   ],
   "source": [
    "f = 1/((3+4*x**2)*(sp.sqrt(4-3*x**2)))\n",
    "f"
   ]
  },
  {
   "cell_type": "code",
   "execution_count": null,
   "id": "08b13b5a-4443-44ba-a9b9-c94c2806a126",
   "metadata": {
    "tags": []
   },
   "outputs": [],
   "source": []
  },
  {
   "cell_type": "code",
   "execution_count": 34,
   "id": "5a914a76-0d27-46ed-8c2c-1d099ef23f1b",
   "metadata": {
    "tags": []
   },
   "outputs": [
    {
     "data": {
      "text/latex": [
       "$\\displaystyle \\sqrt{\\sec{\\left(2 x \\right)} - 1}$"
      ],
      "text/plain": [
       "sqrt(sec(2*x) - 1)"
      ]
     },
     "execution_count": 34,
     "metadata": {},
     "output_type": "execute_result"
    }
   ],
   "source": [
    "f = sp.sqrt(sp.sec(2*x)-1)\n",
    "f"
   ]
  },
  {
   "cell_type": "code",
   "execution_count": null,
   "id": "d3d0be5e-8cac-48eb-8af1-51e36551d1fd",
   "metadata": {
    "tags": []
   },
   "outputs": [],
   "source": []
  },
  {
   "cell_type": "code",
   "execution_count": 35,
   "id": "72284fde-b886-4df5-bf6e-e5e6009279ca",
   "metadata": {
    "tags": []
   },
   "outputs": [
    {
     "data": {
      "text/latex": [
       "$\\displaystyle \\frac{\\left(1 - \\frac{\\sqrt{3}}{3}\\right) \\left(- \\sin{\\left(x \\right)} + \\cos{\\left(x \\right)}\\right)}{\\frac{2 \\sqrt{3} \\sin{\\left(2 x \\right)}}{3} + 1}$"
      ],
      "text/plain": [
       "(1 - sqrt(3)/3)*(-sin(x) + cos(x))/(2*sqrt(3)*sin(2*x)/3 + 1)"
      ]
     },
     "execution_count": 35,
     "metadata": {},
     "output_type": "execute_result"
    }
   ],
   "source": [
    "f = ((1-(1/sp.sqrt(3)))*(sp.cos(x)-sp.sin(x)))/(1+(2/sp.sqrt(3)*sp.sin(2*x)))\n",
    "f"
   ]
  },
  {
   "cell_type": "code",
   "execution_count": null,
   "id": "d072b35a-2818-4acf-8e34-88c092558f4e",
   "metadata": {
    "tags": []
   },
   "outputs": [],
   "source": [
    "f_integrate = sp.integrate(f,x)\n",
    "f_integrate"
   ]
  },
  {
   "cell_type": "code",
   "execution_count": null,
   "id": "136dec09-f173-4d5b-b89f-004ab3591ffc",
   "metadata": {
    "tags": []
   },
   "outputs": [],
   "source": [
    "f = (1/x)*(sp.sqrt((1+x)/(1-x)))\n",
    "f"
   ]
  },
  {
   "cell_type": "code",
   "execution_count": null,
   "id": "3f3384fa-7233-4190-b007-a82f65029b0c",
   "metadata": {
    "tags": []
   },
   "outputs": [],
   "source": [
    "f_integrate = sp.integrate(f,x)\n",
    "f_integrate"
   ]
  },
  {
   "cell_type": "code",
   "execution_count": 12,
   "id": "584c4aae-d9d3-4583-a6ec-b94efae32235",
   "metadata": {},
   "outputs": [
    {
     "data": {
      "text/latex": [
       "$\\displaystyle x e^{x}$"
      ],
      "text/plain": [
       "x*exp(x)"
      ]
     },
     "execution_count": 12,
     "metadata": {},
     "output_type": "execute_result"
    }
   ],
   "source": [
    "f = x*sp.exp(x)\n",
    "f"
   ]
  },
  {
   "cell_type": "code",
   "execution_count": 13,
   "id": "96f8b63e-b646-4515-81ee-ad73bacf802d",
   "metadata": {
    "tags": []
   },
   "outputs": [
    {
     "data": {
      "text/latex": [
       "$\\displaystyle \\left(x - 1\\right) e^{x}$"
      ],
      "text/plain": [
       "(x - 1)*exp(x)"
      ]
     },
     "execution_count": 13,
     "metadata": {},
     "output_type": "execute_result"
    }
   ],
   "source": [
    "f_integrate = sp.integrate(f,x)\n",
    "f_integrate"
   ]
  },
  {
   "cell_type": "code",
   "execution_count": 16,
   "id": "c284fe4a-0b18-4e37-9e35-c391034188f6",
   "metadata": {
    "tags": []
   },
   "outputs": [
    {
     "data": {
      "text/latex": [
       "$\\displaystyle e^{- x^{2}}$"
      ],
      "text/plain": [
       "exp(-x**2)"
      ]
     },
     "execution_count": 16,
     "metadata": {},
     "output_type": "execute_result"
    }
   ],
   "source": [
    "f = sp.exp(-x**2)\n",
    "f"
   ]
  },
  {
   "cell_type": "code",
   "execution_count": 17,
   "id": "2737a8aa-b80a-433d-9dd1-76f9e5f80d00",
   "metadata": {
    "tags": []
   },
   "outputs": [
    {
     "data": {
      "text/latex": [
       "$\\displaystyle \\frac{\\sqrt{\\pi} \\operatorname{erf}{\\left(x \\right)}}{2}$"
      ],
      "text/plain": [
       "sqrt(pi)*erf(x)/2"
      ]
     },
     "execution_count": 17,
     "metadata": {},
     "output_type": "execute_result"
    }
   ],
   "source": [
    "f_integrate = sp.integrate(f,x)\n",
    "f_integrate"
   ]
  },
  {
   "cell_type": "code",
   "execution_count": null,
   "id": "659fe377-06fe-4a5a-98ea-a7ffae4676ee",
   "metadata": {},
   "outputs": [],
   "source": []
  }
 ],
 "metadata": {
  "kernelspec": {
   "display_name": "Python 3 (ipykernel)",
   "language": "python",
   "name": "python3"
  },
  "language_info": {
   "codemirror_mode": {
    "name": "ipython",
    "version": 3
   },
   "file_extension": ".py",
   "mimetype": "text/x-python",
   "name": "python",
   "nbconvert_exporter": "python",
   "pygments_lexer": "ipython3",
   "version": "3.11.4"
  }
 },
 "nbformat": 4,
 "nbformat_minor": 5
}
