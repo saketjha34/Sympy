{
 "cells": [
  {
   "cell_type": "code",
   "execution_count": 2,
   "id": "5b5a84b3-42ec-4a76-bd15-531ea70c61e2",
   "metadata": {
    "tags": []
   },
   "outputs": [],
   "source": [
    "import sympy as sp\n",
    "import numpy as np\n",
    "from sympy import *\n",
    "import matplotlib.pyplot as plt"
   ]
  },
  {
   "cell_type": "code",
   "execution_count": 3,
   "id": "2d8d50e9-b31b-40cf-9e24-defe12aadb97",
   "metadata": {
    "tags": []
   },
   "outputs": [],
   "source": [
    "x,y,z,u1,u2,u3,v1,v2,v3,r0,r,t,v,p0,p,n = sp.symbols('x,y,z,u_1,u_2,u_3,v_1,v_2,v,r_0,r,t,v,p_0,p,n' )\n",
    "f,g = sp.symbols('f,g' , cls = sp.Function)\n",
    "f = f(x)"
   ]
  },
  {
   "cell_type": "code",
   "execution_count": null,
   "id": "e2e72ba9-0435-44ac-a93a-11dc28b4065f",
   "metadata": {},
   "outputs": [],
   "source": [
    "problem: define a vector which represent"
   ]
  },
  {
   "cell_type": "code",
   "execution_count": 11,
   "id": "2b77ed6b-0723-4791-90a9-3259bdbbfd17",
   "metadata": {
    "tags": []
   },
   "outputs": [
    {
     "data": {
      "text/latex": [
       "$\\displaystyle \\left[\\begin{matrix}3 t^{3}\\\\\\cos{\\left(2 t \\right)}\\\\e^{t^{2}}\\end{matrix}\\right]$"
      ],
      "text/plain": [
       "Matrix([\n",
       "[   3*t**3],\n",
       "[ cos(2*t)],\n",
       "[exp(t**2)]])"
      ]
     },
     "execution_count": 11,
     "metadata": {},
     "output_type": "execute_result"
    }
   ],
   "source": [
    "r = sp.Matrix([3*t**3 , sp.cos(2*t) , sp.E**t**2])\n",
    "r"
   ]
  },
  {
   "cell_type": "code",
   "execution_count": 15,
   "id": "6f61c874-1684-4baa-83fa-083a1fe81ebf",
   "metadata": {
    "tags": []
   },
   "outputs": [
    {
     "data": {
      "text/latex": [
       "$\\displaystyle \\left[\\begin{matrix}9 t^{2}\\\\- 2 \\sin{\\left(2 t \\right)}\\\\2 t e^{t^{2}}\\end{matrix}\\right]$"
      ],
      "text/plain": [
       "Matrix([\n",
       "[       9*t**2],\n",
       "[  -2*sin(2*t)],\n",
       "[2*t*exp(t**2)]])"
      ]
     },
     "execution_count": 15,
     "metadata": {},
     "output_type": "execute_result"
    }
   ],
   "source": [
    "v = sp.diff(r , t)\n",
    "v"
   ]
  },
  {
   "cell_type": "code",
   "execution_count": 18,
   "id": "5100c6af-94ad-436c-90dd-a4af04eb41df",
   "metadata": {
    "tags": []
   },
   "outputs": [
    {
     "data": {
      "text/latex": [
       "$\\displaystyle \\left[\\begin{matrix}18 t\\\\- 4 \\cos{\\left(2 t \\right)}\\\\4 t^{2} e^{t^{2}} + 2 e^{t^{2}}\\end{matrix}\\right]$"
      ],
      "text/plain": [
       "Matrix([\n",
       "[                          18*t],\n",
       "[                   -4*cos(2*t)],\n",
       "[4*t**2*exp(t**2) + 2*exp(t**2)]])"
      ]
     },
     "execution_count": 18,
     "metadata": {},
     "output_type": "execute_result"
    }
   ],
   "source": [
    "a = sp.diff(v,t)\n",
    "a # acceleration "
   ]
  },
  {
   "cell_type": "code",
   "execution_count": 20,
   "id": "ec4485c2-8852-4ba8-9731-c79fbf4adbbc",
   "metadata": {
    "tags": []
   },
   "outputs": [
    {
     "data": {
      "text/latex": [
       "$\\displaystyle \\sqrt{324 \\left|{t}\\right|^{2} + \\left|{4 t^{2} e^{t^{2}} + 2 e^{t^{2}}}\\right|^{2} + 16 \\left|{\\cos{\\left(2 t \\right)}}\\right|^{2}}$"
      ],
      "text/plain": [
       "sqrt(324*Abs(t)**2 + Abs(4*t**2*exp(t**2) + 2*exp(t**2))**2 + 16*Abs(cos(2*t))**2)"
      ]
     },
     "execution_count": 20,
     "metadata": {},
     "output_type": "execute_result"
    }
   ],
   "source": [
    "a_magnitude = a.norm()\n",
    "a_magnitude"
   ]
  },
  {
   "cell_type": "code",
   "execution_count": 27,
   "id": "f60f7159-4a25-4faf-a84e-6499291fcb5c",
   "metadata": {
    "tags": []
   },
   "outputs": [
    {
     "name": "stderr",
     "output_type": "stream",
     "text": [
      "No artists with labels found to put in legend.  Note that artists whose label start with an underscore are ignored when legend() is called with no argument.\n"
     ]
    },
    {
     "data": {
      "image/png": "[encoded data removed]",
      "text/plain": [
       "<Figure size 640x480 with 1 Axes>"
      ]
     },
     "metadata": {},
     "output_type": "display_data"
    }
   ],
   "source": [
    "x = np.linspace(1,10,3000)\n",
    "y = sp.lambdify([t] , a_magnitude )(x)\n",
    "plt.plot(x,y)\n",
    "plt.legend() \n",
    "plt.show()"
   ]
  },
  {
   "cell_type": "markdown",
   "id": "52515c38-98dc-457e-b664-2c65999bd955",
   "metadata": {},
   "source": [
    "vector integrals"
   ]
  },
  {
   "cell_type": "code",
   "execution_count": 29,
   "id": "fca8e90c-47fe-4aa7-b553-ab8a78d11b1e",
   "metadata": {
    "tags": []
   },
   "outputs": [
    {
     "data": {
      "text/latex": [
       "$\\displaystyle \\int \\left[\\begin{matrix}3 t^{3}\\\\\\cos{\\left(2 t \\right)}\\\\e^{t^{2}}\\end{matrix}\\right]\\, dt$"
      ],
      "text/plain": [
       "Integral(Matrix([\n",
       "[   3*t**3],\n",
       "[ cos(2*t)],\n",
       "[exp(t**2)]]), t)"
      ]
     },
     "execution_count": 29,
     "metadata": {},
     "output_type": "execute_result"
    }
   ],
   "source": [
    "sp.Integral(r)"
   ]
  },
  {
   "cell_type": "code",
   "execution_count": 30,
   "id": "c8374be6-8b0b-4c3a-9285-54ce7c15530f",
   "metadata": {
    "tags": []
   },
   "outputs": [
    {
     "data": {
      "text/latex": [
       "$\\displaystyle \\left[\\begin{matrix}\\frac{3 t^{4}}{4}\\\\\\frac{\\sin{\\left(2 t \\right)}}{2}\\\\\\frac{\\sqrt{\\pi} \\operatorname{erfi}{\\left(t \\right)}}{2}\\end{matrix}\\right]$"
      ],
      "text/plain": [
       "Matrix([\n",
       "[          3*t**4/4],\n",
       "[        sin(2*t)/2],\n",
       "[sqrt(pi)*erfi(t)/2]])"
      ]
     },
     "execution_count": 30,
     "metadata": {},
     "output_type": "execute_result"
    }
   ],
   "source": [
    "sp.Integral(r).doit()"
   ]
  },
  {
   "cell_type": "code",
   "execution_count": null,
   "id": "b612668a-a6af-41c5-b02b-45fe967e90cf",
   "metadata": {},
   "outputs": [],
   "source": []
  },
  {
   "cell_type": "code",
   "execution_count": null,
   "id": "08762b65-6acd-4cb9-b87a-704c8cf0214a",
   "metadata": {},
   "outputs": [],
   "source": []
  },
  {
   "cell_type": "code",
   "execution_count": null,
   "id": "15f219f6-d6c6-45f7-b582-aa9447fadffe",
   "metadata": {},
   "outputs": [],
   "source": []
  }
 ],
 "metadata": {
  "kernelspec": {
   "display_name": "Python 3 (ipykernel)",
   "language": "python",
   "name": "python3"
  },
  "language_info": {
   "codemirror_mode": {
    "name": "ipython",
    "version": 3
   },
   "file_extension": ".py",
   "mimetype": "text/x-python",
   "name": "python",
   "nbconvert_exporter": "python",
   "pygments_lexer": "ipython3",
   "version": "3.11.4"
  }
 },
 "nbformat": 4,
 "nbformat_minor": 5
}
