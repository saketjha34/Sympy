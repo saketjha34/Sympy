{
 "cells": [
  {
   "cell_type": "code",
   "execution_count": 1,
   "id": "b8891e6d-4aa0-4639-8eed-4649f8521dc5",
   "metadata": {
    "tags": []
   },
   "outputs": [],
   "source": [
    "import sympy as sp\n",
    "import math\n",
    "import matplotlib.pyplot as plt\n",
    "import numpy as np"
   ]
  },
  {
   "cell_type": "code",
   "execution_count": 2,
   "id": "c4eaf2cf-2c7e-44d3-8d91-a4f2b0c9369d",
   "metadata": {
    "tags": []
   },
   "outputs": [],
   "source": [
    "x , y , z = sp.symbols('x,y,z')"
   ]
  },
  {
   "cell_type": "code",
   "execution_count": 3,
   "id": "792673cc-a599-4e73-bda7-f92c4446c626",
   "metadata": {
    "tags": []
   },
   "outputs": [
    {
     "data": {
      "text/latex": [
       "$\\displaystyle \\frac{\\left(\\sin{\\left(x \\right)} + 1\\right)^{2}}{\\left(1 - \\cos{\\left(x \\right)}\\right)^{2}}$"
      ],
      "text/plain": [
       "(sin(x) + 1)**2/(1 - cos(x))**2"
      ]
     },
     "execution_count": 3,
     "metadata": {},
     "output_type": "execute_result"
    }
   ],
   "source": [
    "f = ((1 + sp.sin(x))/(1-sp.cos(x)))**2\n",
    "f"
   ]
  },
  {
   "cell_type": "code",
   "execution_count": 4,
   "id": "f673abc8-e423-4a40-9ba6-5bba9d85b566",
   "metadata": {
    "tags": []
   },
   "outputs": [
    {
     "data": {
      "text/latex": [
       "$\\displaystyle \\frac{2 \\left(\\sin{\\left(x \\right)} + 1\\right) \\cos{\\left(x \\right)}}{\\left(1 - \\cos{\\left(x \\right)}\\right)^{2}} - \\frac{2 \\left(\\sin{\\left(x \\right)} + 1\\right)^{2} \\sin{\\left(x \\right)}}{\\left(1 - \\cos{\\left(x \\right)}\\right)^{3}}$"
      ],
      "text/plain": [
       "2*(sin(x) + 1)*cos(x)/(1 - cos(x))**2 - 2*(sin(x) + 1)**2*sin(x)/(1 - cos(x))**3"
      ]
     },
     "execution_count": 4,
     "metadata": {},
     "output_type": "execute_result"
    }
   ],
   "source": [
    "sp.diff(f,x)"
   ]
  },
  {
   "cell_type": "code",
   "execution_count": 7,
   "id": "5b4ae6d8-ef68-4680-8448-9a9206a302e4",
   "metadata": {
    "tags": []
   },
   "outputs": [
    {
     "data": {
      "text/latex": [
       "$\\displaystyle \\left(y - \\sin{\\left(x \\right)} \\cos{\\left(x \\right)}\\right)^{3} e^{- \\sin{\\left(x y \\right)}}$"
      ],
      "text/plain": [
       "(y - sin(x)*cos(x))**3*exp(-sin(x*y))"
      ]
     },
     "execution_count": 7,
     "metadata": {},
     "output_type": "execute_result"
    }
   ],
   "source": [
    "f = ((y - sp.cos(x)*sp.sin(x))**3)/(sp.exp(sp.sin(y*x)))\n",
    "f"
   ]
  },
  {
   "cell_type": "code",
   "execution_count": 8,
   "id": "1b0efc7d-487a-47a7-9732-d88aa05211b9",
   "metadata": {
    "tags": []
   },
   "outputs": [
    {
     "data": {
      "text/latex": [
       "$\\displaystyle - y \\left(y - \\sin{\\left(x \\right)} \\cos{\\left(x \\right)}\\right)^{3} e^{- \\sin{\\left(x y \\right)}} \\cos{\\left(x y \\right)} + \\left(y - \\sin{\\left(x \\right)} \\cos{\\left(x \\right)}\\right)^{2} \\cdot \\left(3 \\sin^{2}{\\left(x \\right)} - 3 \\cos^{2}{\\left(x \\right)}\\right) e^{- \\sin{\\left(x y \\right)}}$"
      ],
      "text/plain": [
       "-y*(y - sin(x)*cos(x))**3*exp(-sin(x*y))*cos(x*y) + (y - sin(x)*cos(x))**2*(3*sin(x)**2 - 3*cos(x)**2)*exp(-sin(x*y))"
      ]
     },
     "execution_count": 8,
     "metadata": {},
     "output_type": "execute_result"
    }
   ],
   "source": [
    "sp.diff(f,x)"
   ]
  },
  {
   "cell_type": "code",
   "execution_count": 9,
   "id": "abb5420c-f8d1-46a6-bf5c-35caa3895569",
   "metadata": {
    "tags": []
   },
   "outputs": [
    {
     "data": {
      "text/latex": [
       "$\\displaystyle - x \\left(y - \\sin{\\left(x \\right)} \\cos{\\left(x \\right)}\\right)^{3} e^{- \\sin{\\left(x y \\right)}} \\cos{\\left(x y \\right)} + 3 \\left(y - \\sin{\\left(x \\right)} \\cos{\\left(x \\right)}\\right)^{2} e^{- \\sin{\\left(x y \\right)}}$"
      ],
      "text/plain": [
       "-x*(y - sin(x)*cos(x))**3*exp(-sin(x*y))*cos(x*y) + 3*(y - sin(x)*cos(x))**2*exp(-sin(x*y))"
      ]
     },
     "execution_count": 9,
     "metadata": {},
     "output_type": "execute_result"
    }
   ],
   "source": [
    "sp.diff(f,y)"
   ]
  },
  {
   "cell_type": "code",
   "execution_count": 11,
   "id": "dbeb61af-e3ce-4b42-ae5f-a910b6379fe5",
   "metadata": {
    "tags": []
   },
   "outputs": [
    {
     "data": {
      "text/latex": [
       "$\\displaystyle \\left(\\frac{\\log{\\left(x \\right)}}{\\log{\\left(3 \\right)}}\\right)^{\\frac{x}{2}}$"
      ],
      "text/plain": [
       "(log(x)/log(3))**(x/2)"
      ]
     },
     "execution_count": 11,
     "metadata": {},
     "output_type": "execute_result"
    }
   ],
   "source": [
    "f = sp.log(x,3)**(x/2)\n",
    "f"
   ]
  },
  {
   "cell_type": "code",
   "execution_count": 12,
   "id": "239e3289-28e6-482f-9c9a-58e808432255",
   "metadata": {
    "tags": []
   },
   "outputs": [
    {
     "data": {
      "text/latex": [
       "$\\displaystyle \\left(\\frac{\\log{\\left(x \\right)}}{\\log{\\left(3 \\right)}}\\right)^{\\frac{x}{2}} \\left(\\frac{\\log{\\left(\\frac{\\log{\\left(x \\right)}}{\\log{\\left(3 \\right)}} \\right)}}{2} + \\frac{1}{2 \\log{\\left(x \\right)}}\\right)$"
      ],
      "text/plain": [
       "(log(x)/log(3))**(x/2)*(log(log(x)/log(3))/2 + 1/(2*log(x)))"
      ]
     },
     "execution_count": 12,
     "metadata": {},
     "output_type": "execute_result"
    }
   ],
   "source": [
    "sp.diff(f,x)"
   ]
  },
  {
   "cell_type": "code",
   "execution_count": 29,
   "id": "fad62481-0789-4f2d-a925-37ad34fe13fc",
   "metadata": {
    "tags": []
   },
   "outputs": [],
   "source": [
    "f,g = sp.symbols('f,g' , cls = sp.Function)\n",
    "g = g(x)\n",
    "f = f(x + g)"
   ]
  },
  {
   "cell_type": "code",
   "execution_count": 30,
   "id": "8c201099-d077-4e24-a33d-8e0288e7baa1",
   "metadata": {
    "tags": []
   },
   "outputs": [
    {
     "data": {
      "text/latex": [
       "$\\displaystyle f{\\left(x + g{\\left(x \\right)} \\right)}$"
      ],
      "text/plain": [
       "f(x + g(x))"
      ]
     },
     "execution_count": 30,
     "metadata": {},
     "output_type": "execute_result"
    }
   ],
   "source": [
    "f"
   ]
  },
  {
   "cell_type": "code",
   "execution_count": 31,
   "id": "8e9dd1dd-a281-4c5c-9263-4cbf95f2c85c",
   "metadata": {
    "tags": []
   },
   "outputs": [
    {
     "data": {
      "text/latex": [
       "$\\displaystyle \\left(\\frac{d}{d x} g{\\left(x \\right)} + 1\\right) \\left. \\frac{d}{d \\xi_{1}} f{\\left(\\xi_{1} \\right)} \\right|_{\\substack{ \\xi_{1}=x + g{\\left(x \\right)} }}$"
      ],
      "text/plain": [
       "(Derivative(g(x), x) + 1)*Subs(Derivative(f(_xi_1), _xi_1), _xi_1, x + g(x))"
      ]
     },
     "execution_count": 31,
     "metadata": {},
     "output_type": "execute_result"
    }
   ],
   "source": [
    "sp.diff(f,x)"
   ]
  },
  {
   "cell_type": "code",
   "execution_count": 32,
   "id": "ba754397-71ce-4d74-a22c-a30e2ac591ac",
   "metadata": {
    "tags": []
   },
   "outputs": [
    {
     "data": {
      "text/latex": [
       "$\\displaystyle 2 x^{y} + 3 y^{x} - 20$"
      ],
      "text/plain": [
       "2*x**y + 3*y**x - 20"
      ]
     },
     "execution_count": 32,
     "metadata": {},
     "output_type": "execute_result"
    }
   ],
   "source": [
    "f = 2*x**y + 3*y**x - 20\n",
    "f"
   ]
  },
  {
   "cell_type": "code",
   "execution_count": 33,
   "id": "2a67c142-df3a-4e37-ae14-d261148cf052",
   "metadata": {
    "tags": []
   },
   "outputs": [
    {
     "data": {
      "text/latex": [
       "$\\displaystyle 3 y^{x} \\log{\\left(y \\right)} + \\frac{2 x^{y} y}{x}$"
      ],
      "text/plain": [
       "3*y**x*log(y) + 2*x**y*y/x"
      ]
     },
     "execution_count": 33,
     "metadata": {},
     "output_type": "execute_result"
    }
   ],
   "source": [
    "f_diff = sp.diff(f,x)\n",
    "f_diff"
   ]
  },
  {
   "cell_type": "code",
   "execution_count": 36,
   "id": "93dd88e9-2946-4951-99fb-afb2f698547d",
   "metadata": {
    "tags": []
   },
   "outputs": [
    {
     "data": {
      "text/latex": [
       "$\\displaystyle 3 y^{x} \\log{\\left(y \\right)} + \\frac{2 x^{y} y}{x}$"
      ],
      "text/plain": [
       "3*y**x*log(y) + 2*x**y*y/x"
      ]
     },
     "execution_count": 36,
     "metadata": {},
     "output_type": "execute_result"
    }
   ],
   "source": [
    "f_diff.subs((x , 2) , (y , 2))"
   ]
  },
  {
   "cell_type": "code",
   "execution_count": 37,
   "id": "7952a646-9f99-43a3-945f-95c81eb725ac",
   "metadata": {
    "tags": []
   },
   "outputs": [
    {
     "data": {
      "text/latex": [
       "$\\displaystyle \\frac{\\sin{\\left(x \\right)} + \\cos{\\left(x \\right)} - \\sqrt{2}}{\\sin{\\left(x \\right)} - \\cos{\\left(x \\right)}}$"
      ],
      "text/plain": [
       "(sin(x) + cos(x) - sqrt(2))/(sin(x) - cos(x))"
      ]
     },
     "execution_count": 37,
     "metadata": {},
     "output_type": "execute_result"
    }
   ],
   "source": [
    "f = (sp.sin(x) + sp.cos(x) - sp.sqrt(2))/(sp.sin(x) - sp.cos(x))\n",
    "f"
   ]
  },
  {
   "cell_type": "code",
   "execution_count": 48,
   "id": "948b8563-3cf0-4ae6-a46a-a567a75b6bcd",
   "metadata": {
    "tags": []
   },
   "outputs": [
    {
     "data": {
      "text/latex": [
       "$\\displaystyle - \\frac{\\sqrt{3}}{3}$"
      ],
      "text/plain": [
       "-sqrt(3)/3"
      ]
     },
     "execution_count": 48,
     "metadata": {},
     "output_type": "execute_result"
    }
   ],
   "source": [
    "f.subs(x ,(sp.pi)*7/12)"
   ]
  },
  {
   "cell_type": "code",
   "execution_count": 46,
   "id": "ab56e7c2-4bef-41f0-be62-3d30dfa6812f",
   "metadata": {
    "tags": []
   },
   "outputs": [
    {
     "data": {
      "text/latex": [
       "$\\displaystyle \\frac{\\left(1 + \\frac{2 \\left(\\sin{\\left(x \\right)} + \\cos{\\left(x \\right)}\\right)^{2}}{\\left(\\sin{\\left(x \\right)} - \\cos{\\left(x \\right)}\\right)^{2}}\\right) \\left(\\sin{\\left(x \\right)} + \\cos{\\left(x \\right)} - \\sqrt{2}\\right) + \\sin{\\left(x \\right)} + \\cos{\\left(x \\right)}}{\\sin{\\left(x \\right)} - \\cos{\\left(x \\right)}}$"
      ],
      "text/plain": [
       "((1 + 2*(sin(x) + cos(x))**2/(sin(x) - cos(x))**2)*(sin(x) + cos(x) - sqrt(2)) + sin(x) + cos(x))/(sin(x) - cos(x))"
      ]
     },
     "execution_count": 46,
     "metadata": {},
     "output_type": "execute_result"
    }
   ],
   "source": [
    "f_diff2 = sp.diff(f , x,x)\n",
    "f_diff2"
   ]
  },
  {
   "cell_type": "code",
   "execution_count": 47,
   "id": "b9b61a7e-9ef0-4fcb-8ae9-cd0bfb73b9d1",
   "metadata": {
    "tags": []
   },
   "outputs": [
    {
     "data": {
      "text/latex": [
       "$\\displaystyle - \\frac{2 \\sqrt{3}}{9}$"
      ],
      "text/plain": [
       "-2*sqrt(3)/9"
      ]
     },
     "execution_count": 47,
     "metadata": {},
     "output_type": "execute_result"
    }
   ],
   "source": [
    "f_diff2.subs(x, (sp.pi)*7/12 )"
   ]
  },
  {
   "cell_type": "code",
   "execution_count": 58,
   "id": "76a6ef10-dffe-441a-9da5-d12670a87126",
   "metadata": {
    "tags": []
   },
   "outputs": [
    {
     "data": {
      "text/latex": [
       "$\\displaystyle \\left(x + 1\\right) \\left(x^{2} + 1\\right) \\left(x^{4} + 1\\right) \\left(x^{8} + 1\\right) \\left(x^{16} + 1\\right)$"
      ],
      "text/plain": [
       "(x + 1)*(x**2 + 1)*(x**4 + 1)*(x**8 + 1)*(x**16 + 1)"
      ]
     },
     "execution_count": 58,
     "metadata": {},
     "output_type": "execute_result"
    }
   ],
   "source": [
    "f = (1 +x)*(1+x**2)*(1+x**4)*(1+x**16)*(1+x**8)\n",
    "f"
   ]
  },
  {
   "cell_type": "code",
   "execution_count": 59,
   "id": "4a1c2c52-9331-48d5-8cb5-75e9152556ae",
   "metadata": {
    "tags": []
   },
   "outputs": [
    {
     "data": {
      "text/latex": [
       "$\\displaystyle 16 x^{15} \\left(x + 1\\right) \\left(x^{2} + 1\\right) \\left(x^{4} + 1\\right) \\left(x^{8} + 1\\right) + 8 x^{7} \\left(x + 1\\right) \\left(x^{2} + 1\\right) \\left(x^{4} + 1\\right) \\left(x^{16} + 1\\right) + 4 x^{3} \\left(x + 1\\right) \\left(x^{2} + 1\\right) \\left(x^{8} + 1\\right) \\left(x^{16} + 1\\right) + 2 x \\left(x + 1\\right) \\left(x^{4} + 1\\right) \\left(x^{8} + 1\\right) \\left(x^{16} + 1\\right) + \\left(x^{2} + 1\\right) \\left(x^{4} + 1\\right) \\left(x^{8} + 1\\right) \\left(x^{16} + 1\\right)$"
      ],
      "text/plain": [
       "16*x**15*(x + 1)*(x**2 + 1)*(x**4 + 1)*(x**8 + 1) + 8*x**7*(x + 1)*(x**2 + 1)*(x**4 + 1)*(x**16 + 1) + 4*x**3*(x + 1)*(x**2 + 1)*(x**8 + 1)*(x**16 + 1) + 2*x*(x + 1)*(x**4 + 1)*(x**8 + 1)*(x**16 + 1) + (x**2 + 1)*(x**4 + 1)*(x**8 + 1)*(x**16 + 1)"
      ]
     },
     "execution_count": 59,
     "metadata": {},
     "output_type": "execute_result"
    }
   ],
   "source": [
    "f_diff1 = sp.diff(f,x)\n",
    "f_diff1"
   ]
  },
  {
   "cell_type": "code",
   "execution_count": 60,
   "id": "428026e0-6e0a-41e2-a606-5ef9a5348277",
   "metadata": {
    "tags": []
   },
   "outputs": [
    {
     "data": {
      "text/latex": [
       "$\\displaystyle 16$"
      ],
      "text/plain": [
       "16"
      ]
     },
     "execution_count": 60,
     "metadata": {},
     "output_type": "execute_result"
    }
   ],
   "source": [
    "f_diff1.subs(x,-1)"
   ]
  },
  {
   "cell_type": "code",
   "execution_count": 61,
   "id": "8c0db05f-b742-4beb-8f99-6a965d2054e5",
   "metadata": {
    "tags": []
   },
   "outputs": [
    {
     "data": {
      "text/latex": [
       "$\\displaystyle 2 \\cdot \\left(128 x^{22} \\left(x + 1\\right) \\left(x^{2} + 1\\right) \\left(x^{4} + 1\\right) + 64 x^{18} \\left(x + 1\\right) \\left(x^{2} + 1\\right) \\left(x^{8} + 1\\right) + 32 x^{16} \\left(x + 1\\right) \\left(x^{4} + 1\\right) \\left(x^{8} + 1\\right) + 16 x^{15} \\left(x^{2} + 1\\right) \\left(x^{4} + 1\\right) \\left(x^{8} + 1\\right) + 120 x^{14} \\left(x + 1\\right) \\left(x^{2} + 1\\right) \\left(x^{4} + 1\\right) \\left(x^{8} + 1\\right) + 32 x^{10} \\left(x + 1\\right) \\left(x^{2} + 1\\right) \\left(x^{16} + 1\\right) + 16 x^{8} \\left(x + 1\\right) \\left(x^{4} + 1\\right) \\left(x^{16} + 1\\right) + 8 x^{7} \\left(x^{2} + 1\\right) \\left(x^{4} + 1\\right) \\left(x^{16} + 1\\right) + 28 x^{6} \\left(x + 1\\right) \\left(x^{2} + 1\\right) \\left(x^{4} + 1\\right) \\left(x^{16} + 1\\right) + 8 x^{4} \\left(x + 1\\right) \\left(x^{8} + 1\\right) \\left(x^{16} + 1\\right) + 4 x^{3} \\left(x^{2} + 1\\right) \\left(x^{8} + 1\\right) \\left(x^{16} + 1\\right) + 6 x^{2} \\left(x + 1\\right) \\left(x^{2} + 1\\right) \\left(x^{8} + 1\\right) \\left(x^{16} + 1\\right) + 2 x \\left(x^{4} + 1\\right) \\left(x^{8} + 1\\right) \\left(x^{16} + 1\\right) + \\left(x + 1\\right) \\left(x^{4} + 1\\right) \\left(x^{8} + 1\\right) \\left(x^{16} + 1\\right)\\right)$"
      ],
      "text/plain": [
       "2*(128*x**22*(x + 1)*(x**2 + 1)*(x**4 + 1) + 64*x**18*(x + 1)*(x**2 + 1)*(x**8 + 1) + 32*x**16*(x + 1)*(x**4 + 1)*(x**8 + 1) + 16*x**15*(x**2 + 1)*(x**4 + 1)*(x**8 + 1) + 120*x**14*(x + 1)*(x**2 + 1)*(x**4 + 1)*(x**8 + 1) + 32*x**10*(x + 1)*(x**2 + 1)*(x**16 + 1) + 16*x**8*(x + 1)*(x**4 + 1)*(x**16 + 1) + 8*x**7*(x**2 + 1)*(x**4 + 1)*(x**16 + 1) + 28*x**6*(x + 1)*(x**2 + 1)*(x**4 + 1)*(x**16 + 1) + 8*x**4*(x + 1)*(x**8 + 1)*(x**16 + 1) + 4*x**3*(x**2 + 1)*(x**8 + 1)*(x**16 + 1) + 6*x**2*(x + 1)*(x**2 + 1)*(x**8 + 1)*(x**16 + 1) + 2*x*(x**4 + 1)*(x**8 + 1)*(x**16 + 1) + (x + 1)*(x**4 + 1)*(x**8 + 1)*(x**16 + 1))"
      ]
     },
     "execution_count": 61,
     "metadata": {},
     "output_type": "execute_result"
    }
   ],
   "source": [
    "f_diff2 = sp.diff(f , x,x)\n",
    "f_diff2"
   ]
  },
  {
   "cell_type": "code",
   "execution_count": 62,
   "id": "57f0dba5-da06-4e8f-9e1b-12aac7e6d94b",
   "metadata": {
    "tags": []
   },
   "outputs": [
    {
     "data": {
      "text/latex": [
       "$\\displaystyle -480$"
      ],
      "text/plain": [
       "-480"
      ]
     },
     "execution_count": 62,
     "metadata": {},
     "output_type": "execute_result"
    }
   ],
   "source": [
    "f_diff2.subs(x, -1)"
   ]
  },
  {
   "cell_type": "code",
   "execution_count": 67,
   "id": "84e8830f-0a7a-4abd-b14d-1974442f1fc6",
   "metadata": {
    "tags": []
   },
   "outputs": [
    {
     "data": {
      "text/latex": [
       "$\\displaystyle h{\\left(- f^{3}{\\left(x \\right)} + g^{f{\\left(x \\right)}}{\\left(x^{2} - f{\\left(x \\right)} \\right)} \\right)}$"
      ],
      "text/plain": [
       "h(-f(x)**3 + g(x**2 - f(x))**f(x))"
      ]
     },
     "execution_count": 67,
     "metadata": {},
     "output_type": "execute_result"
    }
   ],
   "source": [
    "f , g , h = sp.symbols('f,g,h',cls = sp.Function)\n",
    "f = f(x)\n",
    "g = g(x**2 - f)\n",
    "h = h(g**f - f**3)\n"
   ]
  },
  {
   "cell_type": "code",
   "execution_count": 68,
   "id": "6f55fd6a-cb50-427f-92f6-a07a968b8563",
   "metadata": {
    "tags": []
   },
   "outputs": [
    {
     "data": {
      "text/latex": [
       "$\\displaystyle \\left(\\left(\\frac{\\left(2 x - \\frac{d}{d x} f{\\left(x \\right)}\\right) f{\\left(x \\right)} \\left. \\frac{d}{d \\xi_{1}} g{\\left(\\xi_{1} \\right)} \\right|_{\\substack{ \\xi_{1}=x^{2} - f{\\left(x \\right)} }}}{g{\\left(x^{2} - f{\\left(x \\right)} \\right)}} + \\log{\\left(g{\\left(x^{2} - f{\\left(x \\right)} \\right)} \\right)} \\frac{d}{d x} f{\\left(x \\right)}\\right) g^{f{\\left(x \\right)}}{\\left(x^{2} - f{\\left(x \\right)} \\right)} - 3 f^{2}{\\left(x \\right)} \\frac{d}{d x} f{\\left(x \\right)}\\right) \\left. \\frac{d}{d \\xi_{1}} h{\\left(\\xi_{1} \\right)} \\right|_{\\substack{ \\xi_{1}=- f^{3}{\\left(x \\right)} + g^{f{\\left(x \\right)}}{\\left(x^{2} - f{\\left(x \\right)} \\right)} }}$"
      ],
      "text/plain": [
       "(((2*x - Derivative(f(x), x))*f(x)*Subs(Derivative(g(_xi_1), _xi_1), _xi_1, x**2 - f(x))/g(x**2 - f(x)) + log(g(x**2 - f(x)))*Derivative(f(x), x))*g(x**2 - f(x))**f(x) - 3*f(x)**2*Derivative(f(x), x))*Subs(Derivative(h(_xi_1), _xi_1), _xi_1, -f(x)**3 + g(x**2 - f(x))**f(x))"
      ]
     },
     "execution_count": 68,
     "metadata": {},
     "output_type": "execute_result"
    }
   ],
   "source": [
    "sp.diff(h,x)"
   ]
  },
  {
   "cell_type": "code",
   "execution_count": null,
   "id": "4cfd36db-5321-4a10-b0d3-f6b001b66d44",
   "metadata": {},
   "outputs": [],
   "source": []
  }
 ],
 "metadata": {
  "kernelspec": {
   "display_name": "Python 3 (ipykernel)",
   "language": "python",
   "name": "python3"
  },
  "language_info": {
   "codemirror_mode": {
    "name": "ipython",
    "version": 3
   },
   "file_extension": ".py",
   "mimetype": "text/x-python",
   "name": "python",
   "nbconvert_exporter": "python",
   "pygments_lexer": "ipython3",
   "version": "3.11.4"
  }
 },
 "nbformat": 4,
 "nbformat_minor": 5
}
