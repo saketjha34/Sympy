{
 "cells": [
  {
   "cell_type": "code",
   "execution_count": 39,
   "id": "fc7162b2-638e-4925-9a59-1549c81358cf",
   "metadata": {
    "tags": []
   },
   "outputs": [],
   "source": [
    "import sympy as sp\n",
    "import matplotlib.pyplot as plt\n",
    "import numpy as np"
   ]
  },
  {
   "cell_type": "code",
   "execution_count": 70,
   "id": "aa1d6d39-23a1-41ba-aece-2c7b9d79eca9",
   "metadata": {
    "tags": []
   },
   "outputs": [],
   "source": [
    "x,y,z,a , C1 = sp.symbols('x,y,z ,a, C_1')"
   ]
  },
  {
   "cell_type": "code",
   "execution_count": 6,
   "id": "35f272b6-69f9-4484-a0a8-30b709d15e4f",
   "metadata": {
    "tags": []
   },
   "outputs": [],
   "source": [
    "f,g = sp.symbols('f,g'  , cls = sp.Function)\n",
    "f = f(x)\n",
    "g = g(x,y)"
   ]
  },
  {
   "cell_type": "code",
   "execution_count": 10,
   "id": "dbfc5e7c-8e97-471b-a6e2-f361a5c188a2",
   "metadata": {
    "tags": []
   },
   "outputs": [
    {
     "data": {
      "text/latex": [
       "$\\displaystyle x \\frac{d^{2}}{d x^{2}} f{\\left(x \\right)} + \\frac{d}{d x} f{\\left(x \\right)} = x^{3}$"
      ],
      "text/plain": [
       "Eq(x*Derivative(f(x), (x, 2)) + Derivative(f(x), x), x**3)"
      ]
     },
     "execution_count": 10,
     "metadata": {},
     "output_type": "execute_result"
    }
   ],
   "source": [
    "diff_eq = sp.Eq(x*f.diff(x,x) + f.diff(x),x**3)\n",
    "diff_eq"
   ]
  },
  {
   "cell_type": "code",
   "execution_count": 11,
   "id": "5e394c62-08b5-48bb-a878-097ae3cd24fa",
   "metadata": {
    "tags": []
   },
   "outputs": [
    {
     "data": {
      "text/latex": [
       "$\\displaystyle x^{3}$"
      ],
      "text/plain": [
       "x**3"
      ]
     },
     "execution_count": 11,
     "metadata": {},
     "output_type": "execute_result"
    }
   ],
   "source": [
    "diff_eq.rhs"
   ]
  },
  {
   "cell_type": "code",
   "execution_count": 12,
   "id": "f7c6e764-beab-455f-a70b-1b48141eb0ef",
   "metadata": {
    "tags": []
   },
   "outputs": [
    {
     "data": {
      "text/latex": [
       "$\\displaystyle x \\frac{d^{2}}{d x^{2}} f{\\left(x \\right)} + \\frac{d}{d x} f{\\left(x \\right)}$"
      ],
      "text/plain": [
       "x*Derivative(f(x), (x, 2)) + Derivative(f(x), x)"
      ]
     },
     "execution_count": 12,
     "metadata": {},
     "output_type": "execute_result"
    }
   ],
   "source": [
    "diff_eq.lhs"
   ]
  },
  {
   "cell_type": "code",
   "execution_count": 13,
   "id": "b46f5c83-a5d9-4781-8758-5c875b16dea3",
   "metadata": {
    "tags": []
   },
   "outputs": [
    {
     "data": {
      "text/latex": [
       "$\\displaystyle f{\\left(x \\right)} = C_{1} + C_{2} \\log{\\left(x \\right)} + \\frac{x^{4}}{16}$"
      ],
      "text/plain": [
       "Eq(f(x), C1 + C2*log(x) + x**4/16)"
      ]
     },
     "execution_count": 13,
     "metadata": {},
     "output_type": "execute_result"
    }
   ],
   "source": [
    "sol_diff_eq = sp.dsolve(diff_eq , f)  \n",
    "sol_diff_eq"
   ]
  },
  {
   "cell_type": "code",
   "execution_count": 14,
   "id": "c33846e2-a77a-4d8c-bf78-8bfdea5c0dcc",
   "metadata": {
    "tags": []
   },
   "outputs": [
    {
     "data": {
      "text/latex": [
       "$\\displaystyle C_{1} + C_{2} \\log{\\left(x \\right)} + \\frac{x^{4}}{16}$"
      ],
      "text/plain": [
       "C1 + C2*log(x) + x**4/16"
      ]
     },
     "execution_count": 14,
     "metadata": {},
     "output_type": "execute_result"
    }
   ],
   "source": [
    "ans = sol_diff_eq.rhs\n",
    "ans"
   ]
  },
  {
   "cell_type": "code",
   "execution_count": 35,
   "id": "a373c43a-bcaa-4271-90c0-fc6b4fbd7b85",
   "metadata": {
    "tags": []
   },
   "outputs": [
    {
     "data": {
      "text/latex": [
       "$\\displaystyle - x \\sin{\\left(x \\right)} + \\frac{d}{d x} f{\\left(x \\right)} = 0$"
      ],
      "text/plain": [
       "Eq(-x*sin(x) + Derivative(f(x), x), 0)"
      ]
     },
     "execution_count": 35,
     "metadata": {},
     "output_type": "execute_result"
    }
   ],
   "source": [
    "diff_eq = sp.Eq(f.diff(x) - x*sp.sin(x) , 0) \n",
    "diff_eq"
   ]
  },
  {
   "cell_type": "code",
   "execution_count": 37,
   "id": "fb418691-7a87-4b95-a0ed-90b7dbbee1a9",
   "metadata": {
    "tags": []
   },
   "outputs": [
    {
     "data": {
      "text/latex": [
       "$\\displaystyle f{\\left(x \\right)} = C_{1} - x \\cos{\\left(x \\right)} + \\sin{\\left(x \\right)}$"
      ],
      "text/plain": [
       "Eq(f(x), C1 - x*cos(x) + sin(x))"
      ]
     },
     "execution_count": 37,
     "metadata": {},
     "output_type": "execute_result"
    }
   ],
   "source": [
    "sol_diff_eq = sp.dsolve(diff_eq ,f)\n",
    "sol_diff_eq"
   ]
  },
  {
   "cell_type": "code",
   "execution_count": 45,
   "id": "3fd0ff33-9bb6-4874-ad71-7d35267739e4",
   "metadata": {
    "tags": []
   },
   "outputs": [
    {
     "data": {
      "text/latex": [
       "$\\displaystyle f{\\left(0 \\right)} = C_{1}$"
      ],
      "text/plain": [
       "Eq(f(0), C1)"
      ]
     },
     "execution_count": 45,
     "metadata": {},
     "output_type": "execute_result"
    }
   ],
   "source": [
    "sol_diff_eq.subs(x,0)"
   ]
  },
  {
   "cell_type": "code",
   "execution_count": 56,
   "id": "deebd8f1-9743-43ac-9967-bde09195b639",
   "metadata": {
    "tags": []
   },
   "outputs": [
    {
     "data": {
      "text/latex": [
       "$\\displaystyle \\frac{d}{d x} f{\\left(x \\right)} = \\frac{\\log{\\left(x \\right)} + 1}{x \\log{\\left(x \\right)} + e^{- f{\\left(x \\right)}}}$"
      ],
      "text/plain": [
       "Eq(Derivative(f(x), x), (log(x) + 1)/(x*log(x) + exp(-f(x))))"
      ]
     },
     "execution_count": 56,
     "metadata": {},
     "output_type": "execute_result"
    }
   ],
   "source": [
    "diff_eq = sp.Eq(f.diff(x) , (1 + sp.log(x))/(x*sp.log(x) + sp.E**-f) )\n",
    "diff_eq"
   ]
  },
  {
   "cell_type": "code",
   "execution_count": 58,
   "id": "8c98edd2-0184-4bc3-b82a-d103067ce145",
   "metadata": {
    "tags": []
   },
   "outputs": [
    {
     "data": {
      "text/plain": [
       "[Eq(f(x), log((-x*log(x) - sqrt(-2*C1 + x**2*log(x)**2))/(2*C1))),\n",
       " Eq(f(x), log((-x*log(x) + sqrt(-2*C1 + x**2*log(x)**2))/(2*C1)))]"
      ]
     },
     "execution_count": 58,
     "metadata": {},
     "output_type": "execute_result"
    }
   ],
   "source": [
    "sol_diff_eq = sp.dsolve(diff_eq , f)  \n",
    "sol_diff_eq"
   ]
  },
  {
   "cell_type": "code",
   "execution_count": 63,
   "id": "fe628ae6-df77-44f8-a754-1fa6ffb83c5d",
   "metadata": {
    "tags": []
   },
   "outputs": [
    {
     "data": {
      "text/latex": [
       "$\\displaystyle \\log{\\left(\\frac{- x \\log{\\left(x \\right)} - \\sqrt{- 2 C_{1} + x^{2} \\log{\\left(x \\right)}^{2}}}{2 C_{1}} \\right)}$"
      ],
      "text/plain": [
       "log((-x*log(x) - sqrt(-2*C_1 + x**2*log(x)**2))/(2*C_1))"
      ]
     },
     "execution_count": 63,
     "metadata": {},
     "output_type": "execute_result"
    }
   ],
   "source": [
    "eq = sp.log((-x*sp.log(x) - sp.sqrt(-2*C1 + x**2*sp.log(x)**2))/(2*C1))\n",
    "eq"
   ]
  },
  {
   "cell_type": "code",
   "execution_count": 74,
   "id": "e3a7b289-6cb7-4796-90b6-aafe91efab56",
   "metadata": {
    "tags": []
   },
   "outputs": [],
   "source": [
    "eq1 =eq.subs(C1,-2)\n",
    "\n",
    "eq2 = eq1.subs(x,a)"
   ]
  },
  {
   "cell_type": "code",
   "execution_count": 75,
   "id": "62da88f8-e19d-4287-b854-7ca397b46f0d",
   "metadata": {
    "tags": []
   },
   "outputs": [
    {
     "data": {
      "text/latex": [
       "$\\displaystyle \\log{\\left(\\frac{a \\log{\\left(a \\right)}}{4} + \\frac{\\sqrt{a^{2} \\log{\\left(a \\right)}^{2} + 4}}{4} \\right)} = 2$"
      ],
      "text/plain": [
       "Eq(log(a*log(a)/4 + sqrt(a**2*log(a)**2 + 4)/4), 2)"
      ]
     },
     "execution_count": 75,
     "metadata": {},
     "output_type": "execute_result"
    }
   ],
   "source": [
    "ans = sp.Eq(eq2 , 2)\n",
    "ans"
   ]
  },
  {
   "cell_type": "code",
   "execution_count": null,
   "id": "22cf6db9-5474-44ee-8a67-2a84457f583c",
   "metadata": {},
   "outputs": [],
   "source": []
  }
 ],
 "metadata": {
  "kernelspec": {
   "display_name": "Python 3 (ipykernel)",
   "language": "python",
   "name": "python3"
  },
  "language_info": {
   "codemirror_mode": {
    "name": "ipython",
    "version": 3
   },
   "file_extension": ".py",
   "mimetype": "text/x-python",
   "name": "python",
   "nbconvert_exporter": "python",
   "pygments_lexer": "ipython3",
   "version": "3.11.4"
  }
 },
 "nbformat": 4,
 "nbformat_minor": 5
}
