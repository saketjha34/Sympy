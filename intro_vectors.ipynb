{
 "cells": [
  {
   "cell_type": "raw",
   "id": "a3ae8ced-a7fa-4e58-ae9f-cd3ee227140f",
   "metadata": {},
   "source": [
    "importing python libraries"
   ]
  },
  {
   "cell_type": "code",
   "execution_count": 68,
   "id": "e4602d1c-2a31-4b18-b78e-3ac6ecfac203",
   "metadata": {
    "tags": []
   },
   "outputs": [],
   "source": [
    "import sympy as sp\n",
    "import numpy as np\n",
    "from sympy import *\n",
    "import matplotlib.pyplot as plt"
   ]
  },
  {
   "cell_type": "code",
   "execution_count": 69,
   "id": "dcc41d01-6158-4cf1-8c65-001804c2901a",
   "metadata": {
    "tags": []
   },
   "outputs": [],
   "source": [
    "x,y,z,u1,u2,u3,v1,v2,v3,r0,r,t,v,p0,p,n = sp.symbols('x,y,z,u_1,u_2,u_3,v_1,v_2,v,r_0,r,t,v,p_0,p,n' )\n",
    "f,g = sp.symbols('f,g' , cls = sp.Function)\n",
    "f = f(x)"
   ]
  },
  {
   "cell_type": "code",
   "execution_count": 44,
   "id": "a2651401-8398-4be9-b0fd-b2332185b361",
   "metadata": {
    "tags": []
   },
   "outputs": [],
   "source": [
    "a = np.array([3,6,1])\n",
    "b = np.array([-2,4,5])\n",
    "u = sp.Matrix([u1,u2,u3])\n",
    "v = sp.Matrix([v1,v2,v3])"
   ]
  },
  {
   "cell_type": "code",
   "execution_count": 45,
   "id": "176cafc6-8704-459f-a933-2548448e8246",
   "metadata": {
    "tags": []
   },
   "outputs": [
    {
     "data": {
      "text/latex": [
       "$\\displaystyle \\left[\\begin{matrix}2 u_{1} - 2 v_{1}\\\\2 u_{2} - 2 v_{2}\\\\2 u_{3} - 2 v\\end{matrix}\\right]$"
      ],
      "text/plain": [
       "Matrix([\n",
       "[2*u_1 - 2*v_1],\n",
       "[2*u_2 - 2*v_2],\n",
       "[  2*u_3 - 2*v]])"
      ]
     },
     "execution_count": 45,
     "metadata": {},
     "output_type": "execute_result"
    }
   ],
   "source": [
    "2*(u-v)"
   ]
  },
  {
   "cell_type": "code",
   "execution_count": 46,
   "id": "563760dc-5ddc-4e56-bfb7-557279245092",
   "metadata": {
    "tags": []
   },
   "outputs": [
    {
     "data": {
      "text/plain": [
       "array([-6, 84, 66])"
      ]
     },
     "execution_count": 46,
     "metadata": {},
     "output_type": "execute_result"
    }
   ],
   "source": [
    "6*(a+2*b)"
   ]
  },
  {
   "cell_type": "code",
   "execution_count": 47,
   "id": "4a656c21-fd55-4de1-ac36-c5a3fe471233",
   "metadata": {
    "tags": []
   },
   "outputs": [
    {
     "data": {
      "text/plain": [
       "23"
      ]
     },
     "execution_count": 47,
     "metadata": {},
     "output_type": "execute_result"
    }
   ],
   "source": [
    "np.dot(a,b)"
   ]
  },
  {
   "cell_type": "code",
   "execution_count": 48,
   "id": "851a670f-c3f8-4248-96bd-293f19fe8da9",
   "metadata": {
    "tags": []
   },
   "outputs": [
    {
     "data": {
      "text/latex": [
       "$\\displaystyle u_{1} v_{1} + u_{2} v_{2} + u_{3} v$"
      ],
      "text/plain": [
       "u_1*v_1 + u_2*v_2 + u_3*v"
      ]
     },
     "execution_count": 48,
     "metadata": {},
     "output_type": "execute_result"
    }
   ],
   "source": [
    "u.dot(v)"
   ]
  },
  {
   "cell_type": "code",
   "execution_count": 49,
   "id": "63207c1c-fa5f-4fd6-99f4-ddd3e6186c9b",
   "metadata": {
    "tags": []
   },
   "outputs": [
    {
     "data": {
      "text/plain": [
       "array([ 26, -17,  24])"
      ]
     },
     "execution_count": 49,
     "metadata": {},
     "output_type": "execute_result"
    }
   ],
   "source": [
    "np.cross(a,b)"
   ]
  },
  {
   "cell_type": "code",
   "execution_count": 50,
   "id": "2714d5c8-e476-4f65-a6ea-21a98088cbb6",
   "metadata": {
    "tags": []
   },
   "outputs": [
    {
     "data": {
      "text/latex": [
       "$\\displaystyle \\left[\\begin{matrix}u_{2} v - u_{3} v_{2}\\\\- u_{1} v + u_{3} v_{1}\\\\u_{1} v_{2} - u_{2} v_{1}\\end{matrix}\\right]$"
      ],
      "text/plain": [
       "Matrix([\n",
       "[  u_2*v - u_3*v_2],\n",
       "[ -u_1*v + u_3*v_1],\n",
       "[u_1*v_2 - u_2*v_1]])"
      ]
     },
     "execution_count": 50,
     "metadata": {},
     "output_type": "execute_result"
    }
   ],
   "source": [
    "u.cross(v)"
   ]
  },
  {
   "cell_type": "code",
   "execution_count": 51,
   "id": "701f3dd8-c2b5-4f1b-b29a-74e0efee2cbd",
   "metadata": {
    "tags": []
   },
   "outputs": [
    {
     "data": {
      "text/plain": [
       "6.708203932499369"
      ]
     },
     "execution_count": 51,
     "metadata": {},
     "output_type": "execute_result"
    }
   ],
   "source": [
    "np.linalg.norm(b)"
   ]
  },
  {
   "cell_type": "code",
   "execution_count": 52,
   "id": "37007cbe-183c-441d-a801-62827299cda9",
   "metadata": {
    "tags": []
   },
   "outputs": [
    {
     "data": {
      "text/latex": [
       "$\\displaystyle \\sqrt{\\left|{v}\\right|^{2} + \\left|{v_{1}}\\right|^{2} + \\left|{v_{2}}\\right|^{2}}$"
      ],
      "text/plain": [
       "sqrt(Abs(v)**2 + Abs(v_1)**2 + Abs(v_2)**2)"
      ]
     },
     "execution_count": 52,
     "metadata": {},
     "output_type": "execute_result"
    }
   ],
   "source": [
    "v.norm()"
   ]
  },
  {
   "cell_type": "code",
   "execution_count": 53,
   "id": "9bf88474-3742-4b8f-b769-b142e16ed624",
   "metadata": {
    "tags": []
   },
   "outputs": [
    {
     "data": {
      "text/latex": [
       "$\\displaystyle \\sqrt{\\left|{v}\\right|^{2} + \\left|{v_{1}}\\right|^{2} + 25}$"
      ],
      "text/plain": [
       "sqrt(Abs(v)**2 + Abs(v_1)**2 + 25)"
      ]
     },
     "execution_count": 53,
     "metadata": {},
     "output_type": "execute_result"
    }
   ],
   "source": [
    "v.norm().subs(v2,5)"
   ]
  },
  {
   "cell_type": "markdown",
   "id": "251b8edf-149e-47ad-a206-587317a720bb",
   "metadata": {},
   "source": [
    "vector projection"
   ]
  },
  {
   "cell_type": "code",
   "execution_count": 56,
   "id": "cede6103-7d41-4cf1-8091-64ae866c645e",
   "metadata": {
    "tags": []
   },
   "outputs": [
    {
     "data": {
      "text/latex": [
       "$\\displaystyle \\left[\\begin{matrix}\\frac{v_{1} \\left(u_{1} v_{1} + u_{2} v_{2} + u_{3} v\\right)}{\\left|{v}\\right|^{2} + \\left|{v_{1}}\\right|^{2} + \\left|{v_{2}}\\right|^{2}}\\\\\\frac{v_{2} \\left(u_{1} v_{1} + u_{2} v_{2} + u_{3} v\\right)}{\\left|{v}\\right|^{2} + \\left|{v_{1}}\\right|^{2} + \\left|{v_{2}}\\right|^{2}}\\\\\\frac{v \\left(u_{1} v_{1} + u_{2} v_{2} + u_{3} v\\right)}{\\left|{v}\\right|^{2} + \\left|{v_{1}}\\right|^{2} + \\left|{v_{2}}\\right|^{2}}\\end{matrix}\\right]$"
      ],
      "text/plain": [
       "Matrix([\n",
       "[v_1*(u_1*v_1 + u_2*v_2 + u_3*v)/(Abs(v)**2 + Abs(v_1)**2 + Abs(v_2)**2)],\n",
       "[v_2*(u_1*v_1 + u_2*v_2 + u_3*v)/(Abs(v)**2 + Abs(v_1)**2 + Abs(v_2)**2)],\n",
       "[  v*(u_1*v_1 + u_2*v_2 + u_3*v)/(Abs(v)**2 + Abs(v_1)**2 + Abs(v_2)**2)]])"
      ]
     },
     "execution_count": 56,
     "metadata": {},
     "output_type": "execute_result"
    }
   ],
   "source": [
    "proj_u_on_v =( u.dot(v)/v.norm()**2 )*v\n",
    "proj_u_on_v"
   ]
  },
  {
   "cell_type": "markdown",
   "id": "d094cfe4-9bd9-4a49-aabd-ccdd026b3e88",
   "metadata": {},
   "source": [
    "Equation of line "
   ]
  },
  {
   "cell_type": "code",
   "execution_count": 62,
   "id": "837e9296-bda0-42bb-9725-d03a0d657222",
   "metadata": {
    "tags": []
   },
   "outputs": [
    {
     "data": {
      "text/latex": [
       "$\\displaystyle r_{0} + t v$"
      ],
      "text/plain": [
       "r_0 + t*v"
      ]
     },
     "execution_count": 62,
     "metadata": {},
     "output_type": "execute_result"
    }
   ],
   "source": [
    "r = r0 + t*v\n",
    "r"
   ]
  },
  {
   "cell_type": "code",
   "execution_count": 65,
   "id": "3f78ad81-690a-43ce-9939-f2a824a3ccea",
   "metadata": {
    "tags": []
   },
   "outputs": [
    {
     "data": {
      "text/latex": [
       "$\\displaystyle \\left[\\begin{matrix}1 - 2 t\\\\3 t + 2\\\\t + 4\\end{matrix}\\right]$"
      ],
      "text/plain": [
       "Matrix([\n",
       "[1 - 2*t],\n",
       "[3*t + 2],\n",
       "[  t + 4]])"
      ]
     },
     "execution_count": 65,
     "metadata": {},
     "output_type": "execute_result"
    }
   ],
   "source": [
    "r0 = sp.Matrix([1,2,4])\n",
    "v = sp.Matrix([-2,3,1])\n",
    "r = r0 + t*v\n",
    "r"
   ]
  },
  {
   "cell_type": "markdown",
   "id": "83904c10-96ad-45f6-a36f-915433aa81f7",
   "metadata": {},
   "source": [
    "Equation of Plane\n",
    "plane : n(P0 - <X,Y,Z>)"
   ]
  },
  {
   "cell_type": "code",
   "execution_count": 82,
   "id": "5e2d7d35-3f45-46e0-a47a-f7918ce0a107",
   "metadata": {
    "tags": []
   },
   "outputs": [
    {
     "data": {
      "text/latex": [
       "$\\displaystyle x - 5 y - 3 z + 36$"
      ],
      "text/plain": [
       "x - 5*y - 3*z + 36"
      ]
     },
     "execution_count": 82,
     "metadata": {},
     "output_type": "execute_result"
    }
   ],
   "source": [
    "p0 = sp.Matrix([2,4,6])\n",
    "r = sp.Matrix([x,y,z])\n",
    "n = sp.Matrix([-1,5,3])\n",
    "n.dot(p0 - r)"
   ]
  },
  {
   "cell_type": "markdown",
   "id": "ad7abea2-cda9-42bf-9f32-8b608093752e",
   "metadata": {},
   "source": [
    "**Question** Find vector parallel to the line of intersection of the two planes $6x+7y-4z = 15$ and $x+y-2z=5$. (It's  going to be perpendicular to both normal vectors)"
   ]
  },
  {
   "cell_type": "code",
   "execution_count": 83,
   "id": "dd13f315-858a-40d7-bf33-a40c2a89da45",
   "metadata": {
    "tags": []
   },
   "outputs": [
    {
     "data": {
      "text/latex": [
       "$\\displaystyle \\left[\\begin{matrix}-10\\\\8\\\\-1\\end{matrix}\\right]$"
      ],
      "text/plain": [
       "Matrix([\n",
       "[-10],\n",
       "[  8],\n",
       "[ -1]])"
      ]
     },
     "execution_count": 83,
     "metadata": {},
     "output_type": "execute_result"
    }
   ],
   "source": [
    "n1 = sp.Matrix([6,7,-4]) #normal vector for plane 1\n",
    "n2 = sp.Matrix([1,1,-2]) #normal vector for plane 2\n",
    "ans = n1.cross(n2)\n",
    "ans"
   ]
  },
  {
   "cell_type": "markdown",
   "id": "ec615ece-594f-418d-815e-04c4d7b5b7e3",
   "metadata": {},
   "source": [
    "vector scalar product : a.(bxc)"
   ]
  },
  {
   "cell_type": "code",
   "execution_count": 89,
   "id": "8da66b37-2e02-4cf1-97e7-020c6262fee5",
   "metadata": {
    "tags": []
   },
   "outputs": [
    {
     "data": {
      "text/latex": [
       "$\\displaystyle a_{1} \\left(b_{2} c_{3} - b_{3} c_{2}\\right) + a_{2} \\left(- b_{1} c_{3} + b_{3} c_{1}\\right) + a_{3} \\left(b_{1} c_{2} - b_{2} c_{1}\\right)$"
      ],
      "text/plain": [
       "a_1*(b_2*c_3 - b_3*c_2) + a_2*(-b_1*c_3 + b_3*c_1) + a_3*(b_1*c_2 - b_2*c_1)"
      ]
     },
     "execution_count": 89,
     "metadata": {},
     "output_type": "execute_result"
    }
   ],
   "source": [
    "a1,a2,a3,b1,b2,b3,c1,c2,c3 = sp.symbols(\"a_1,a_2,a_3,b_1,b_2,b_3,c_1,c_2,c_3\")\n",
    "a = sp.Matrix([a1,a2,a3])\n",
    "b = sp.Matrix([b1,b2,b3])\n",
    "c = sp.Matrix([c1,c2,c3])\n",
    "stp = a.dot(b.cross(c))\n",
    "stp"
   ]
  },
  {
   "cell_type": "markdown",
   "id": "351daa4e-08ec-426c-8a87-bc87de3c49b0",
   "metadata": {},
   "source": [
    "vector triple product : ax(bxc)"
   ]
  },
  {
   "cell_type": "code",
   "execution_count": 90,
   "id": "3145b156-dedf-453f-b630-a4d396999da4",
   "metadata": {
    "tags": []
   },
   "outputs": [
    {
     "data": {
      "text/latex": [
       "$\\displaystyle \\left[\\begin{matrix}a_{2} \\left(b_{1} c_{2} - b_{2} c_{1}\\right) - a_{3} \\left(- b_{1} c_{3} + b_{3} c_{1}\\right)\\\\- a_{1} \\left(b_{1} c_{2} - b_{2} c_{1}\\right) + a_{3} \\left(b_{2} c_{3} - b_{3} c_{2}\\right)\\\\a_{1} \\left(- b_{1} c_{3} + b_{3} c_{1}\\right) - a_{2} \\left(b_{2} c_{3} - b_{3} c_{2}\\right)\\end{matrix}\\right]$"
      ],
      "text/plain": [
       "Matrix([\n",
       "[a_2*(b_1*c_2 - b_2*c_1) - a_3*(-b_1*c_3 + b_3*c_1)],\n",
       "[-a_1*(b_1*c_2 - b_2*c_1) + a_3*(b_2*c_3 - b_3*c_2)],\n",
       "[a_1*(-b_1*c_3 + b_3*c_1) - a_2*(b_2*c_3 - b_3*c_2)]])"
      ]
     },
     "execution_count": 90,
     "metadata": {},
     "output_type": "execute_result"
    }
   ],
   "source": [
    "a = sp.Matrix([a1,a2,a3])\n",
    "b = sp.Matrix([b1,b2,b3])\n",
    "c = sp.Matrix([c1,c2,c3])\n",
    "vtp = a.cross(b.cross(c))\n",
    "vtp"
   ]
  },
  {
   "cell_type": "code",
   "execution_count": null,
   "id": "3f5d7f76-2dc5-4ad8-9d6e-33bee423bdff",
   "metadata": {},
   "outputs": [],
   "source": []
  },
  {
   "cell_type": "code",
   "execution_count": null,
   "id": "21db5cd6-cebb-441c-aa6b-0149bbf6f02a",
   "metadata": {},
   "outputs": [],
   "source": []
  },
  {
   "cell_type": "code",
   "execution_count": null,
   "id": "a210085b-1ba2-4d4d-9921-d43336da5c97",
   "metadata": {},
   "outputs": [],
   "source": []
  }
 ],
 "metadata": {
  "kernelspec": {
   "display_name": "Python 3 (ipykernel)",
   "language": "python",
   "name": "python3"
  },
  "language_info": {
   "codemirror_mode": {
    "name": "ipython",
    "version": 3
   },
   "file_extension": ".py",
   "mimetype": "text/x-python",
   "name": "python",
   "nbconvert_exporter": "python",
   "pygments_lexer": "ipython3",
   "version": "3.11.4"
  }
 },
 "nbformat": 4,
 "nbformat_minor": 5
}
