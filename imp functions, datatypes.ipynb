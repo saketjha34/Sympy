{
 "cells": [
  {
   "cell_type": "code",
   "execution_count": 25,
   "id": "15b9f7a3-2c43-4482-b29b-a314ea8b5f80",
   "metadata": {
    "tags": []
   },
   "outputs": [],
   "source": [
    "import sympy as sp\n",
    "import math\n",
    "import matplotlib.pyplot as plt\n",
    "import numpy as np"
   ]
  },
  {
   "cell_type": "code",
   "execution_count": 26,
   "id": "1a0a944f-351a-4ed3-ab32-cac72c7e5dff",
   "metadata": {
    "tags": []
   },
   "outputs": [],
   "source": [
    "x,y,z = sp.symbols('x,y,z')"
   ]
  },
  {
   "cell_type": "code",
   "execution_count": 27,
   "id": "08275903-74c9-41d8-a275-a66e8ab33908",
   "metadata": {
    "tags": []
   },
   "outputs": [
    {
     "data": {
      "text/latex": [
       "$\\displaystyle x^{\\frac{2}{5}}$"
      ],
      "text/plain": [
       "x**(2/5)"
      ]
     },
     "execution_count": 27,
     "metadata": {},
     "output_type": "execute_result"
    }
   ],
   "source": [
    "exp = x**sp.Rational(2,5)\n",
    "exp"
   ]
  },
  {
   "cell_type": "code",
   "execution_count": 28,
   "id": "e92a17c7-d332-4235-bd03-35d223d3bb5e",
   "metadata": {
    "tags": []
   },
   "outputs": [
    {
     "data": {
      "text/latex": [
       "$\\displaystyle \\log{\\left(x \\right)}$"
      ],
      "text/plain": [
       "log(x)"
      ]
     },
     "execution_count": 28,
     "metadata": {},
     "output_type": "execute_result"
    }
   ],
   "source": [
    "exp = sp.log(x)\n",
    "exp"
   ]
  },
  {
   "cell_type": "code",
   "execution_count": 31,
   "id": "d2f507c0-7ac9-4daf-9ddd-29f78fec25f3",
   "metadata": {},
   "outputs": [
    {
     "data": {
      "text/latex": [
       "$\\displaystyle \\log{\\left(x \\right)}^{\\frac{\\pi}{3}}$"
      ],
      "text/plain": [
       "log(x)**(pi/3)"
      ]
     },
     "execution_count": 31,
     "metadata": {},
     "output_type": "execute_result"
    }
   ],
   "source": [
    "exp  = (sp.log(x))**(sp.pi/3)\n",
    "exp"
   ]
  },
  {
   "cell_type": "code",
   "execution_count": 34,
   "id": "a27a85c6-bb6e-43b1-bb24-d2a2b9a94840",
   "metadata": {
    "tags": []
   },
   "outputs": [
    {
     "data": {
      "text/latex": [
       "$\\displaystyle \\sin^{e}{\\left(x \\right)}$"
      ],
      "text/plain": [
       "sin(x)**E"
      ]
     },
     "execution_count": 34,
     "metadata": {},
     "output_type": "execute_result"
    }
   ],
   "source": [
    "exp = sp.sin(x)**sp.E\n",
    "exp"
   ]
  },
  {
   "cell_type": "code",
   "execution_count": 35,
   "id": "9baae5eb-ecff-4424-848c-d9fbe32b052e",
   "metadata": {},
   "outputs": [
    {
     "data": {
      "text/latex": [
       "$\\displaystyle \\infty$"
      ],
      "text/plain": [
       "oo"
      ]
     },
     "execution_count": 35,
     "metadata": {},
     "output_type": "execute_result"
    }
   ],
   "source": [
    "sp.oo"
   ]
  },
  {
   "cell_type": "code",
   "execution_count": 36,
   "id": "eeb9262e-d149-4151-8508-dea5b40c9795",
   "metadata": {},
   "outputs": [
    {
     "data": {
      "text/latex": [
       "$\\displaystyle i$"
      ],
      "text/plain": [
       "I"
      ]
     },
     "execution_count": 36,
     "metadata": {},
     "output_type": "execute_result"
    }
   ],
   "source": [
    "sp.I"
   ]
  },
  {
   "cell_type": "code",
   "execution_count": null,
   "id": "ab478aca-05de-4e83-bcba-17dee1eb161f",
   "metadata": {},
   "outputs": [],
   "source": []
  }
 ],
 "metadata": {
  "kernelspec": {
   "display_name": "Python 3 (ipykernel)",
   "language": "python",
   "name": "python3"
  },
  "language_info": {
   "codemirror_mode": {
    "name": "ipython",
    "version": 3
   },
   "file_extension": ".py",
   "mimetype": "text/x-python",
   "name": "python",
   "nbconvert_exporter": "python",
   "pygments_lexer": "ipython3",
   "version": "3.11.4"
  }
 },
 "nbformat": 4,
 "nbformat_minor": 5
}
