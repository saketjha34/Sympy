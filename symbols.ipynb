{
 "cells": [
  {
   "cell_type": "markdown",
   "id": "37ba98b1-fe76-432e-aaa2-0550e5e3a8ac",
   "metadata": {},
   "source": [
    "Symbols in Sympy"
   ]
  },
  {
   "cell_type": "code",
   "execution_count": 27,
   "id": "aefcc209-13bf-4b6f-8081-c334da97adf5",
   "metadata": {},
   "outputs": [],
   "source": [
    "import sympy as sp\n",
    "import math\n",
    "import matplotlib.pyplot as plt\n",
    "import numpy as np"
   ]
  },
  {
   "cell_type": "code",
   "execution_count": 29,
   "id": "426d1ae5-6b19-4cc1-ad59-3f1833275e24",
   "metadata": {
    "tags": []
   },
   "outputs": [],
   "source": [
    "x , y  = sp.symbols(\"x y\")"
   ]
  },
  {
   "cell_type": "code",
   "execution_count": 4,
   "id": "23a5d606-3cec-453f-a2ad-23c72ccff17a",
   "metadata": {
    "tags": []
   },
   "outputs": [
    {
     "data": {
      "text/latex": [
       "$\\displaystyle 2 x^{2} + 15 x + 23$"
      ],
      "text/plain": [
       "2*x**2 + 15*x + 23"
      ]
     },
     "execution_count": 4,
     "metadata": {},
     "output_type": "execute_result"
    }
   ],
   "source": [
    "2*x**2 + 15*x +23"
   ]
  },
  {
   "cell_type": "code",
   "execution_count": 5,
   "id": "4fffa96f-9279-4829-9d34-4b42477a11e0",
   "metadata": {
    "tags": []
   },
   "outputs": [
    {
     "data": {
      "text/latex": [
       "$\\displaystyle \\sin{\\left(x \\right)}$"
      ],
      "text/plain": [
       "sin(x)"
      ]
     },
     "execution_count": 5,
     "metadata": {},
     "output_type": "execute_result"
    }
   ],
   "source": [
    "sp.sin(x)"
   ]
  },
  {
   "cell_type": "code",
   "execution_count": 6,
   "id": "93f06d25-a3c9-4820-974c-e0cb06c3fc99",
   "metadata": {
    "tags": []
   },
   "outputs": [
    {
     "data": {
      "text/latex": [
       "$\\displaystyle \\sqrt{\\operatorname{acos}{\\left(x^{2} \\right)}}$"
      ],
      "text/plain": [
       "sqrt(acos(x**2))"
      ]
     },
     "execution_count": 6,
     "metadata": {},
     "output_type": "execute_result"
    }
   ],
   "source": [
    "sp.sqrt(sp.acos(x**2))"
   ]
  },
  {
   "cell_type": "code",
   "execution_count": 7,
   "id": "2d83abe5-51ad-4ff7-9813-b9fd21494c63",
   "metadata": {
    "tags": []
   },
   "outputs": [
    {
     "data": {
      "text/latex": [
       "$\\displaystyle \\frac{x}{2}$"
      ],
      "text/plain": [
       "x/2"
      ]
     },
     "execution_count": 7,
     "metadata": {},
     "output_type": "execute_result"
    }
   ],
   "source": [
    "13*x/26"
   ]
  },
  {
   "cell_type": "code",
   "execution_count": 8,
   "id": "884b10b6-293f-45e5-a6ce-4927e10a31b3",
   "metadata": {
    "tags": []
   },
   "outputs": [
    {
     "data": {
      "text/latex": [
       "$\\displaystyle x \\left(x^{2} + 2\\right)$"
      ],
      "text/plain": [
       "x*(x**2 + 2)"
      ]
     },
     "execution_count": 8,
     "metadata": {},
     "output_type": "execute_result"
    }
   ],
   "source": [
    "x*(x**2+2)"
   ]
  },
  {
   "cell_type": "markdown",
   "id": "e1fc6e29-d66d-4858-8d57-50f354e0b22b",
   "metadata": {},
   "source": [
    "Expand Expressions"
   ]
  },
  {
   "cell_type": "code",
   "execution_count": 9,
   "id": "562b2ddd-ec52-4954-bfeb-bbdb32038b54",
   "metadata": {
    "tags": []
   },
   "outputs": [
    {
     "data": {
      "text/latex": [
       "$\\displaystyle x^{2} \\left(x + 1\\right)$"
      ],
      "text/plain": [
       "x**2*(x + 1)"
      ]
     },
     "execution_count": 9,
     "metadata": {},
     "output_type": "execute_result"
    }
   ],
   "source": [
    "exp1 = x**2*(x+1)\n",
    "exp1"
   ]
  },
  {
   "cell_type": "code",
   "execution_count": 10,
   "id": "e03783c8-6c16-4410-8adf-cdae1cbd54e2",
   "metadata": {
    "tags": []
   },
   "outputs": [
    {
     "data": {
      "text/latex": [
       "$\\displaystyle x^{3} + x^{2}$"
      ],
      "text/plain": [
       "x**3 + x**2"
      ]
     },
     "execution_count": 10,
     "metadata": {},
     "output_type": "execute_result"
    }
   ],
   "source": [
    "sp.expand(exp1)"
   ]
  },
  {
   "cell_type": "code",
   "execution_count": 11,
   "id": "46a91485-0aba-4641-aefc-4951a0c6f2a7",
   "metadata": {
    "tags": []
   },
   "outputs": [
    {
     "data": {
      "text/latex": [
       "$\\displaystyle x^{2} \\left(x + 1\\right)$"
      ],
      "text/plain": [
       "x**2*(x + 1)"
      ]
     },
     "execution_count": 11,
     "metadata": {},
     "output_type": "execute_result"
    }
   ],
   "source": [
    "exp1"
   ]
  },
  {
   "cell_type": "code",
   "execution_count": 12,
   "id": "cf47cfdf-c508-4920-b688-1e278a2c5290",
   "metadata": {
    "tags": []
   },
   "outputs": [
    {
     "data": {
      "text/plain": [
       "(t, v)"
      ]
     },
     "execution_count": 12,
     "metadata": {},
     "output_type": "execute_result"
    }
   ],
   "source": [
    "sp.symbols(\"t , v\")"
   ]
  },
  {
   "cell_type": "code",
   "execution_count": 13,
   "id": "6e0dfe7d-2f07-4a74-864e-ef9ec389d144",
   "metadata": {
    "tags": []
   },
   "outputs": [],
   "source": [
    "s , t = sp.symbols(\"s,t\")"
   ]
  },
  {
   "cell_type": "code",
   "execution_count": 14,
   "id": "8185b45b-a1c4-44fc-8d8c-c38e9552beaa",
   "metadata": {
    "tags": []
   },
   "outputs": [
    {
     "data": {
      "text/latex": [
       "$\\displaystyle s$"
      ],
      "text/plain": [
       "s"
      ]
     },
     "execution_count": 14,
     "metadata": {},
     "output_type": "execute_result"
    }
   ],
   "source": [
    "s"
   ]
  },
  {
   "cell_type": "code",
   "execution_count": 15,
   "id": "d045d3c9-2207-43d2-a273-9c1b1f27cc63",
   "metadata": {
    "tags": []
   },
   "outputs": [
    {
     "data": {
      "text/latex": [
       "$\\displaystyle t$"
      ],
      "text/plain": [
       "t"
      ]
     },
     "execution_count": 15,
     "metadata": {},
     "output_type": "execute_result"
    }
   ],
   "source": [
    "t"
   ]
  },
  {
   "cell_type": "code",
   "execution_count": 16,
   "id": "bc42952c-4cba-4b47-ae79-697827e0c752",
   "metadata": {
    "tags": []
   },
   "outputs": [
    {
     "data": {
      "text/latex": [
       "$\\displaystyle \\left(x^{2} - 5\\right) \\left(3 x^{3} + 2 x^{2} + 14\\right)$"
      ],
      "text/plain": [
       "(x**2 - 5)*(3*x**3 + 2*x**2 + 14)"
      ]
     },
     "execution_count": 16,
     "metadata": {},
     "output_type": "execute_result"
    }
   ],
   "source": [
    "exp = (x**2 - 5)*(3*x**3 + 2*x**2 + 14)\n",
    "exp"
   ]
  },
  {
   "cell_type": "code",
   "execution_count": 17,
   "id": "34698137-bf19-4b64-b29b-461a4e08fb01",
   "metadata": {
    "tags": []
   },
   "outputs": [
    {
     "data": {
      "text/latex": [
       "$\\displaystyle 3 x^{5} + 2 x^{4} - 15 x^{3} + 4 x^{2} - 70$"
      ],
      "text/plain": [
       "3*x**5 + 2*x**4 - 15*x**3 + 4*x**2 - 70"
      ]
     },
     "execution_count": 17,
     "metadata": {},
     "output_type": "execute_result"
    }
   ],
   "source": [
    "sp.expand(exp)"
   ]
  },
  {
   "cell_type": "code",
   "execution_count": 18,
   "id": "b080be28-e2b2-4c19-94f6-6a0ce38af84e",
   "metadata": {
    "tags": []
   },
   "outputs": [
    {
     "data": {
      "text/latex": [
       "$\\displaystyle \\left(x^{2} - 5\\right) \\left(3 x^{3} + 2 x^{2} + 14\\right)$"
      ],
      "text/plain": [
       "(x**2 - 5)*(3*x**3 + 2*x**2 + 14)"
      ]
     },
     "execution_count": 18,
     "metadata": {},
     "output_type": "execute_result"
    }
   ],
   "source": [
    "sp.factor(exp)"
   ]
  },
  {
   "cell_type": "code",
   "execution_count": 19,
   "id": "23545022-3482-4379-98eb-90a2009c07a6",
   "metadata": {
    "slideshow": {
     "slide_type": "subslide"
    },
    "tags": [
     "1"
    ]
   },
   "outputs": [
    {
     "data": {
      "text/latex": [
       "$\\displaystyle x^{2} + 2 x - 15$"
      ],
      "text/plain": [
       "x**2 + 2*x - 15"
      ]
     },
     "execution_count": 19,
     "metadata": {},
     "output_type": "execute_result"
    }
   ],
   "source": [
    "exp = x**2 + 2*x  - 15\n",
    "exp"
   ]
  },
  {
   "cell_type": "code",
   "execution_count": 20,
   "id": "d97bdf43-bcac-4cc6-9d57-30d77c40ce28",
   "metadata": {
    "slideshow": {
     "slide_type": "subslide"
    },
    "tags": []
   },
   "outputs": [
    {
     "data": {
      "text/latex": [
       "$\\displaystyle \\left(x - 3\\right) \\left(x + 5\\right)$"
      ],
      "text/plain": [
       "(x - 3)*(x + 5)"
      ]
     },
     "execution_count": 20,
     "metadata": {},
     "output_type": "execute_result"
    }
   ],
   "source": [
    "exp.factor()"
   ]
  },
  {
   "cell_type": "code",
   "execution_count": 21,
   "id": "dcfe31e0-e4d3-4442-82f3-048fdeab3b29",
   "metadata": {
    "slideshow": {
     "slide_type": "fragment"
    },
    "tags": [
     "1"
    ]
   },
   "outputs": [
    {
     "data": {
      "text/plain": [
       "(x1, x2, x3, x4, x5, x6, x7, x8, x9, x10)"
      ]
     },
     "execution_count": 21,
     "metadata": {},
     "output_type": "execute_result"
    }
   ],
   "source": [
    "x_v = sp.symbols(\"x1:11\")\n",
    "x_v"
   ]
  },
  {
   "cell_type": "code",
   "execution_count": 22,
   "id": "4585cb9e-6f85-429a-b065-75a023eed50c",
   "metadata": {
    "tags": []
   },
   "outputs": [
    {
     "data": {
      "text/plain": [
       "(x1, x2, x3)"
      ]
     },
     "execution_count": 22,
     "metadata": {},
     "output_type": "execute_result"
    }
   ],
   "source": [
    "x_o = sp.symbols(\"x1, x2, x3\")\n",
    "x_o"
   ]
  },
  {
   "cell_type": "code",
   "execution_count": 23,
   "id": "67743864-a300-47db-aa01-22a707d51a6b",
   "metadata": {
    "tags": []
   },
   "outputs": [
    {
     "data": {
      "text/latex": [
       "$\\displaystyle x^{4} + 5 x_{1}^{3} - 10 x_{3}^{2}$"
      ],
      "text/plain": [
       "x**4 + 5*x1**3 - 10*x3**2"
      ]
     },
     "execution_count": 23,
     "metadata": {},
     "output_type": "execute_result"
    }
   ],
   "source": [
    "exp = x**4 + 5*x_o[0]**3 - 10*x_o[2]**2\n",
    "exp"
   ]
  },
  {
   "cell_type": "code",
   "execution_count": 38,
   "id": "d33a3d61-0e4f-486d-a1be-63598f334bf7",
   "metadata": {},
   "outputs": [
    {
     "data": {
      "text/latex": [
       "$\\displaystyle \\frac{d}{d x} f{\\left(x \\right)}$"
      ],
      "text/plain": [
       "Derivative(f(x), x)"
      ]
     },
     "execution_count": 38,
     "metadata": {},
     "output_type": "execute_result"
    }
   ],
   "source": [
    "f = sp.Function('f')(x)\n",
    "f\n",
    "sp.diff(f,x)"
   ]
  },
  {
   "cell_type": "code",
   "execution_count": 35,
   "id": "fb3971f4-40b3-4282-b682-3398835800e4",
   "metadata": {
    "tags": []
   },
   "outputs": [
    {
     "data": {
      "text/latex": [
       "$\\displaystyle \\frac{\\partial^{2}}{\\partial y\\partial x} f{\\left(x,y \\right)}$"
      ],
      "text/plain": [
       "Derivative(f(x, y), x, y)"
      ]
     },
     "execution_count": 35,
     "metadata": {},
     "output_type": "execute_result"
    }
   ],
   "source": [
    "g = sp.Function('f')(x,y)\n",
    "g\n",
    "\n",
    "sp.diff(g , x , y )"
   ]
  },
  {
   "cell_type": "code",
   "execution_count": 36,
   "id": "c246cea8-6262-41c4-bd13-fc25629ceb90",
   "metadata": {
    "tags": []
   },
   "outputs": [
    {
     "data": {
      "text/latex": [
       "$\\displaystyle \\frac{\\partial}{\\partial y} f{\\left(x,y \\right)}$"
      ],
      "text/plain": [
       "Derivative(f(x, y), y)"
      ]
     },
     "execution_count": 36,
     "metadata": {},
     "output_type": "execute_result"
    }
   ],
   "source": [
    "sp.diff(g , y)"
   ]
  },
  {
   "cell_type": "code",
   "execution_count": 42,
   "id": "f53d583f-73bd-4fca-9994-1add6c717d63",
   "metadata": {
    "tags": []
   },
   "outputs": [
    {
     "data": {
      "text/latex": [
       "$\\displaystyle \\int f{\\left(x \\right)}\\, dx$"
      ],
      "text/plain": [
       "Integral(f(x), x)"
      ]
     },
     "execution_count": 42,
     "metadata": {},
     "output_type": "execute_result"
    }
   ],
   "source": [
    "sp.integrate(f, x )"
   ]
  },
  {
   "cell_type": "code",
   "execution_count": null,
   "id": "acc18d6f-9906-4454-8fe5-4a8c7ec7e02c",
   "metadata": {},
   "outputs": [],
   "source": []
  }
 ],
 "metadata": {
  "kernelspec": {
   "display_name": "Python 3 (ipykernel)",
   "language": "python",
   "name": "python3"
  },
  "language_info": {
   "codemirror_mode": {
    "name": "ipython",
    "version": 3
   },
   "file_extension": ".py",
   "mimetype": "text/x-python",
   "name": "python",
   "nbconvert_exporter": "python",
   "pygments_lexer": "ipython3",
   "version": "3.11.4"
  }
 },
 "nbformat": 4,
 "nbformat_minor": 5
}
